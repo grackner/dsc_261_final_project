{
 "cells": [
  {
   "cell_type": "markdown",
   "metadata": {},
   "source": [
    "# Setup"
   ]
  },
  {
   "cell_type": "code",
   "execution_count": 1,
   "metadata": {},
   "outputs": [],
   "source": [
    "import pandas as pd\n",
    "import numpy as np\n",
    "\n",
    "from eval_funcs import (\n",
    "        perplexity_for_corpora,\n",
    "        wasserstein_distance_embeddings,\n",
    "        classify_real_vs_synth,\n",
    "        compute_stat_properties\n",
    "    )"
   ]
  },
  {
   "cell_type": "markdown",
   "metadata": {},
   "source": [
    "# Import Real Dataset"
   ]
  },
  {
   "cell_type": "code",
   "execution_count": 2,
   "metadata": {},
   "outputs": [
    {
     "name": "stdout",
     "output_type": "stream",
     "text": [
      "Path to dataset files: C:\\Users\\loren\\.cache\\kagglehub\\datasets\\gowrishankarp\\newspaper-text-summarization-cnn-dailymail\\versions\\2\n"
     ]
    }
   ],
   "source": [
    "import kagglehub\n",
    "\n",
    "# Download latest version\n",
    "path = kagglehub.dataset_download(\"gowrishankarp/newspaper-text-summarization-cnn-dailymail\")\n",
    "\n",
    "print(\"Path to dataset files:\", path)"
   ]
  },
  {
   "cell_type": "code",
   "execution_count": 3,
   "metadata": {},
   "outputs": [],
   "source": [
    "cnn_train = pd.read_csv(r'C:\\Users\\loren\\.cache\\kagglehub\\datasets\\gowrishankarp\\newspaper-text-summarization-cnn-dailymail\\versions\\2\\cnn_dailymail\\train.csv')"
   ]
  },
  {
   "cell_type": "code",
   "execution_count": 4,
   "metadata": {},
   "outputs": [
    {
     "data": {
      "text/html": [
       "<div>\n",
       "<style scoped>\n",
       "    .dataframe tbody tr th:only-of-type {\n",
       "        vertical-align: middle;\n",
       "    }\n",
       "\n",
       "    .dataframe tbody tr th {\n",
       "        vertical-align: top;\n",
       "    }\n",
       "\n",
       "    .dataframe thead th {\n",
       "        text-align: right;\n",
       "    }\n",
       "</style>\n",
       "<table border=\"1\" class=\"dataframe\">\n",
       "  <thead>\n",
       "    <tr style=\"text-align: right;\">\n",
       "      <th></th>\n",
       "      <th>id</th>\n",
       "      <th>article</th>\n",
       "      <th>highlights</th>\n",
       "    </tr>\n",
       "  </thead>\n",
       "  <tbody>\n",
       "    <tr>\n",
       "      <th>0</th>\n",
       "      <td>0001d1afc246a7964130f43ae940af6bc6c57f01</td>\n",
       "      <td>By . Associated Press . PUBLISHED: . 14:11 EST...</td>\n",
       "      <td>Bishop John Folda, of North Dakota, is taking ...</td>\n",
       "    </tr>\n",
       "    <tr>\n",
       "      <th>1</th>\n",
       "      <td>0002095e55fcbd3a2f366d9bf92a95433dc305ef</td>\n",
       "      <td>(CNN) -- Ralph Mata was an internal affairs li...</td>\n",
       "      <td>Criminal complaint: Cop used his role to help ...</td>\n",
       "    </tr>\n",
       "  </tbody>\n",
       "</table>\n",
       "</div>"
      ],
      "text/plain": [
       "                                         id  \\\n",
       "0  0001d1afc246a7964130f43ae940af6bc6c57f01   \n",
       "1  0002095e55fcbd3a2f366d9bf92a95433dc305ef   \n",
       "\n",
       "                                             article  \\\n",
       "0  By . Associated Press . PUBLISHED: . 14:11 EST...   \n",
       "1  (CNN) -- Ralph Mata was an internal affairs li...   \n",
       "\n",
       "                                          highlights  \n",
       "0  Bishop John Folda, of North Dakota, is taking ...  \n",
       "1  Criminal complaint: Cop used his role to help ...  "
      ]
     },
     "execution_count": 4,
     "metadata": {},
     "output_type": "execute_result"
    }
   ],
   "source": [
    "cnn_train.head(2)"
   ]
  },
  {
   "cell_type": "markdown",
   "metadata": {},
   "source": [
    "# Import TinyLlama Synthetic Dataset"
   ]
  },
  {
   "cell_type": "code",
   "execution_count": 5,
   "metadata": {},
   "outputs": [],
   "source": [
    "tinyllama_data = pd.read_csv('../tinyllama_outputs.csv').drop('Unnamed: 0', axis=1)"
   ]
  },
  {
   "cell_type": "code",
   "execution_count": 6,
   "metadata": {},
   "outputs": [
    {
     "data": {
      "text/html": [
       "<div>\n",
       "<style scoped>\n",
       "    .dataframe tbody tr th:only-of-type {\n",
       "        vertical-align: middle;\n",
       "    }\n",
       "\n",
       "    .dataframe tbody tr th {\n",
       "        vertical-align: top;\n",
       "    }\n",
       "\n",
       "    .dataframe thead th {\n",
       "        text-align: right;\n",
       "    }\n",
       "</style>\n",
       "<table border=\"1\" class=\"dataframe\">\n",
       "  <thead>\n",
       "    <tr style=\"text-align: right;\">\n",
       "      <th></th>\n",
       "      <th>uuid</th>\n",
       "      <th>topic</th>\n",
       "      <th>generated_article</th>\n",
       "      <th>elapsed_time</th>\n",
       "    </tr>\n",
       "  </thead>\n",
       "  <tbody>\n",
       "    <tr>\n",
       "      <th>0</th>\n",
       "      <td>00b75438-5d31-4f38-add3-f873c44fdb65</td>\n",
       "      <td>Politics - Elections</td>\n",
       "      <td>Fearing a catastrophic defeat at the polls, US...</td>\n",
       "      <td>5.364199</td>\n",
       "    </tr>\n",
       "    <tr>\n",
       "      <th>1</th>\n",
       "      <td>3a1296a5-83f0-4945-a105-74a1117758b6</td>\n",
       "      <td>World - Middle East</td>\n",
       "      <td>Bombarded by violent attacks in mid-East: CNN ...</td>\n",
       "      <td>4.014536</td>\n",
       "    </tr>\n",
       "  </tbody>\n",
       "</table>\n",
       "</div>"
      ],
      "text/plain": [
       "                                   uuid                 topic  \\\n",
       "0  00b75438-5d31-4f38-add3-f873c44fdb65  Politics - Elections   \n",
       "1  3a1296a5-83f0-4945-a105-74a1117758b6   World - Middle East   \n",
       "\n",
       "                                   generated_article  elapsed_time  \n",
       "0  Fearing a catastrophic defeat at the polls, US...      5.364199  \n",
       "1  Bombarded by violent attacks in mid-East: CNN ...      4.014536  "
      ]
     },
     "execution_count": 6,
     "metadata": {},
     "output_type": "execute_result"
    }
   ],
   "source": [
    "tinyllama_data.head(2)"
   ]
  },
  {
   "cell_type": "code",
   "execution_count": 7,
   "metadata": {},
   "outputs": [
    {
     "data": {
      "text/plain": [
       "(1000,)"
      ]
     },
     "execution_count": 7,
     "metadata": {},
     "output_type": "execute_result"
    }
   ],
   "source": [
    "tinyllama_data['generated_article'].shape"
   ]
  },
  {
   "cell_type": "code",
   "execution_count": 8,
   "metadata": {},
   "outputs": [
    {
     "data": {
      "text/plain": [
       "2396"
      ]
     },
     "execution_count": 8,
     "metadata": {},
     "output_type": "execute_result"
    }
   ],
   "source": [
    "tinyllama_data['generated_article'].str.split(' ').transform(lambda x: len(x)).max()"
   ]
  },
  {
   "cell_type": "markdown",
   "metadata": {},
   "source": [
    "# Run Eval Functions"
   ]
  },
  {
   "cell_type": "markdown",
   "metadata": {},
   "source": [
    "### Running Statistical Properties Metrics on TinyLlama Data"
   ]
  },
  {
   "cell_type": "code",
   "execution_count": 9,
   "metadata": {},
   "outputs": [],
   "source": [
    "stats = compute_stat_properties(tinyllama_data['generated_article'], max_length=4096)"
   ]
  },
  {
   "cell_type": "code",
   "execution_count": 10,
   "metadata": {},
   "outputs": [
    {
     "data": {
      "text/plain": [
       "{'avg_len_tokens': 825.7349853515625,\n",
       " 'std_len_tokens': 352.1277160644531,\n",
       " 'avg_len_chars': 4039.864,\n",
       " 'ttr': 0.031341774298049616,\n",
       " 'hapax_ratio': 0.26866306027820713}"
      ]
     },
     "execution_count": 10,
     "metadata": {},
     "output_type": "execute_result"
    }
   ],
   "source": [
    "stats"
   ]
  },
  {
   "cell_type": "markdown",
   "metadata": {},
   "source": [
    "### Running Perplexity Scores"
   ]
  },
  {
   "cell_type": "code",
   "execution_count": 11,
   "metadata": {},
   "outputs": [
    {
     "name": "stdout",
     "output_type": "stream",
     "text": [
      "[perplexity] device=cuda batch_size=8 max_length(requested)=2048 max_length(effective)=2048\n",
      "[perplexity] num_docs: real=1000 synthetic=1000 total_batches=250\n"
     ]
    },
    {
     "name": "stderr",
     "output_type": "stream",
     "text": [
      "c:\\Users\\loren\\AppData\\Local\\Programs\\Python\\Python312\\Lib\\site-packages\\transformers\\models\\opt\\modeling_opt.py:341: UserWarning: 1Torch was not compiled with flash attention. (Triggered internally at C:\\actions-runner\\_work\\pytorch\\pytorch\\builder\\windows\\pytorch\\aten\\src\\ATen\\native\\transformers\\cuda\\sdp_utils.cpp:555.)\n",
      "  attn_output = torch.nn.functional.scaled_dot_product_attention(\n"
     ]
    },
    {
     "name": "stdout",
     "output_type": "stream",
     "text": [
      "[perplexity] progress 5/250 | elapsed=5.3s | avg/batch=1.05s | ETA~258.3s\n",
      "[perplexity] progress 10/250 | elapsed=10.6s | avg/batch=1.06s | ETA~253.8s\n",
      "[perplexity] progress 15/250 | elapsed=16.4s | avg/batch=1.09s | ETA~257.2s\n",
      "[perplexity] progress 20/250 | elapsed=21.5s | avg/batch=1.07s | ETA~247.2s\n",
      "[perplexity] progress 25/250 | elapsed=28.7s | avg/batch=1.15s | ETA~258.7s\n",
      "[perplexity] progress 30/250 | elapsed=32.7s | avg/batch=1.09s | ETA~239.9s\n",
      "[perplexity] progress 35/250 | elapsed=37.8s | avg/batch=1.08s | ETA~232.5s\n",
      "[perplexity] progress 40/250 | elapsed=43.1s | avg/batch=1.08s | ETA~226.1s\n",
      "[perplexity] progress 45/250 | elapsed=48.3s | avg/batch=1.07s | ETA~220.1s\n",
      "[perplexity] progress 50/250 | elapsed=55.2s | avg/batch=1.10s | ETA~220.8s\n",
      "[perplexity] progress 55/250 | elapsed=62.8s | avg/batch=1.14s | ETA~222.8s\n",
      "[perplexity] progress 60/250 | elapsed=68.0s | avg/batch=1.13s | ETA~215.3s\n",
      "[perplexity] progress 65/250 | elapsed=74.5s | avg/batch=1.15s | ETA~212.0s\n",
      "[perplexity] progress 70/250 | elapsed=78.5s | avg/batch=1.12s | ETA~202.0s\n",
      "[perplexity] progress 75/250 | elapsed=81.4s | avg/batch=1.09s | ETA~189.9s\n",
      "[perplexity] progress 80/250 | elapsed=88.4s | avg/batch=1.11s | ETA~187.9s\n",
      "[perplexity] progress 85/250 | elapsed=92.8s | avg/batch=1.09s | ETA~180.1s\n",
      "[perplexity] progress 90/250 | elapsed=99.1s | avg/batch=1.10s | ETA~176.1s\n",
      "[perplexity] progress 95/250 | elapsed=108.0s | avg/batch=1.14s | ETA~176.2s\n",
      "[perplexity] progress 100/250 | elapsed=113.2s | avg/batch=1.13s | ETA~169.8s\n",
      "[perplexity] progress 105/250 | elapsed=119.8s | avg/batch=1.14s | ETA~165.5s\n",
      "[perplexity] progress 110/250 | elapsed=123.6s | avg/batch=1.12s | ETA~157.3s\n",
      "[perplexity] progress 115/250 | elapsed=131.5s | avg/batch=1.14s | ETA~154.4s\n",
      "[perplexity] progress 120/250 | elapsed=138.0s | avg/batch=1.15s | ETA~149.5s\n",
      "[perplexity] progress 125/250 | elapsed=144.8s | avg/batch=1.16s | ETA~144.8s\n",
      "[perplexity] progress 130/250 | elapsed=148.9s | avg/batch=1.15s | ETA~137.5s\n",
      "[perplexity] progress 135/250 | elapsed=153.1s | avg/batch=1.13s | ETA~130.4s\n",
      "[perplexity] progress 140/250 | elapsed=156.9s | avg/batch=1.12s | ETA~123.3s\n",
      "[perplexity] progress 145/250 | elapsed=160.9s | avg/batch=1.11s | ETA~116.5s\n",
      "[perplexity] progress 150/250 | elapsed=164.7s | avg/batch=1.10s | ETA~109.8s\n",
      "[perplexity] progress 155/250 | elapsed=170.0s | avg/batch=1.10s | ETA~104.2s\n",
      "[perplexity] progress 160/250 | elapsed=173.8s | avg/batch=1.09s | ETA~97.8s\n",
      "[perplexity] progress 165/250 | elapsed=179.9s | avg/batch=1.09s | ETA~92.7s\n",
      "[perplexity] progress 170/250 | elapsed=184.7s | avg/batch=1.09s | ETA~86.9s\n",
      "[perplexity] progress 175/250 | elapsed=188.2s | avg/batch=1.08s | ETA~80.6s\n",
      "[perplexity] progress 180/250 | elapsed=193.1s | avg/batch=1.07s | ETA~75.1s\n",
      "[perplexity] progress 185/250 | elapsed=199.4s | avg/batch=1.08s | ETA~70.1s\n",
      "[perplexity] progress 190/250 | elapsed=206.1s | avg/batch=1.08s | ETA~65.1s\n",
      "[perplexity] progress 195/250 | elapsed=212.8s | avg/batch=1.09s | ETA~60.0s\n",
      "[perplexity] progress 200/250 | elapsed=215.4s | avg/batch=1.08s | ETA~53.9s\n",
      "[perplexity] progress 205/250 | elapsed=218.1s | avg/batch=1.06s | ETA~47.9s\n",
      "[perplexity] progress 210/250 | elapsed=223.6s | avg/batch=1.06s | ETA~42.6s\n",
      "[perplexity] progress 215/250 | elapsed=227.3s | avg/batch=1.06s | ETA~37.0s\n",
      "[perplexity] progress 220/250 | elapsed=231.4s | avg/batch=1.05s | ETA~31.6s\n",
      "[perplexity] progress 225/250 | elapsed=234.3s | avg/batch=1.04s | ETA~26.0s\n",
      "[perplexity] progress 230/250 | elapsed=241.1s | avg/batch=1.05s | ETA~21.0s\n",
      "[perplexity] progress 235/250 | elapsed=243.3s | avg/batch=1.04s | ETA~15.5s\n",
      "[perplexity] progress 240/250 | elapsed=250.5s | avg/batch=1.04s | ETA~10.4s\n",
      "[perplexity] progress 245/250 | elapsed=258.4s | avg/batch=1.05s | ETA~5.3s\n",
      "[perplexity] progress 250/250 | elapsed=263.4s | avg/batch=1.05s | ETA~0.0s\n",
      "[perplexity] done in 263.4s\n"
     ]
    }
   ],
   "source": [
    "ppl = perplexity_for_corpora(cnn_train['article'].sample(1000, random_state=42), tinyllama_data['generated_article'], batch_size=8, max_length=2048)"
   ]
  },
  {
   "cell_type": "code",
   "execution_count": 12,
   "metadata": {},
   "outputs": [
    {
     "data": {
      "text/plain": [
       "{'real': {'corpus_ppl': 20.093418953077368},\n",
       " 'synthetic': {'corpus_ppl': 15.954454026445283}}"
      ]
     },
     "execution_count": 12,
     "metadata": {},
     "output_type": "execute_result"
    }
   ],
   "source": [
    "ppl"
   ]
  },
  {
   "cell_type": "markdown",
   "metadata": {},
   "source": [
    "### Running Wasserstein Distance"
   ]
  },
  {
   "cell_type": "code",
   "execution_count": 13,
   "metadata": {},
   "outputs": [
    {
     "name": "stdout",
     "output_type": "stream",
     "text": [
      "[embed:real] device=cuda batch_size=8 max_length(req)=2048 max_length(eff)=2048 num_docs=1000\n",
      "[embed:real] progress 5/125 | elapsed=2.7s | avg/batch=0.53s | ETA~63.6s\n",
      "[embed:real] progress 10/125 | elapsed=5.4s | avg/batch=0.54s | ETA~61.9s\n",
      "[embed:real] progress 15/125 | elapsed=8.5s | avg/batch=0.57s | ETA~62.2s\n",
      "[embed:real] progress 20/125 | elapsed=11.0s | avg/batch=0.55s | ETA~58.0s\n",
      "[embed:real] progress 25/125 | elapsed=14.0s | avg/batch=0.56s | ETA~56.0s\n",
      "[embed:real] progress 30/125 | elapsed=16.4s | avg/batch=0.55s | ETA~51.8s\n",
      "[embed:real] progress 35/125 | elapsed=19.0s | avg/batch=0.54s | ETA~48.9s\n",
      "[embed:real] progress 40/125 | elapsed=21.7s | avg/batch=0.54s | ETA~46.2s\n",
      "[embed:real] progress 45/125 | elapsed=24.4s | avg/batch=0.54s | ETA~43.3s\n",
      "[embed:real] progress 50/125 | elapsed=27.6s | avg/batch=0.55s | ETA~41.5s\n",
      "[embed:real] progress 55/125 | elapsed=30.8s | avg/batch=0.56s | ETA~39.2s\n",
      "[embed:real] progress 60/125 | elapsed=33.5s | avg/batch=0.56s | ETA~36.3s\n",
      "[embed:real] progress 65/125 | elapsed=36.5s | avg/batch=0.56s | ETA~33.6s\n",
      "[embed:real] progress 70/125 | elapsed=38.9s | avg/batch=0.56s | ETA~30.6s\n",
      "[embed:real] progress 75/125 | elapsed=41.1s | avg/batch=0.55s | ETA~27.4s\n",
      "[embed:real] progress 80/125 | elapsed=44.3s | avg/batch=0.55s | ETA~24.9s\n",
      "[embed:real] progress 85/125 | elapsed=46.9s | avg/batch=0.55s | ETA~22.1s\n",
      "[embed:real] progress 90/125 | elapsed=49.7s | avg/batch=0.55s | ETA~19.3s\n",
      "[embed:real] progress 95/125 | elapsed=53.4s | avg/batch=0.56s | ETA~16.9s\n",
      "[embed:real] progress 100/125 | elapsed=56.3s | avg/batch=0.56s | ETA~14.1s\n",
      "[embed:real] progress 105/125 | elapsed=59.4s | avg/batch=0.57s | ETA~11.3s\n",
      "[embed:real] progress 110/125 | elapsed=61.8s | avg/batch=0.56s | ETA~8.4s\n",
      "[embed:real] progress 115/125 | elapsed=65.3s | avg/batch=0.57s | ETA~5.7s\n",
      "[embed:real] progress 120/125 | elapsed=68.4s | avg/batch=0.57s | ETA~2.8s\n",
      "[embed:real] progress 125/125 | elapsed=71.7s | avg/batch=0.57s | ETA~0.0s\n",
      "[embed:real] done in 71.7s\n",
      "[embed:synthetic] device=cuda batch_size=8 max_length(req)=2048 max_length(eff)=2048 num_docs=1000\n",
      "[embed:synthetic] progress 5/125 | elapsed=2.6s | avg/batch=0.52s | ETA~62.4s\n",
      "[embed:synthetic] progress 10/125 | elapsed=5.1s | avg/batch=0.51s | ETA~59.0s\n",
      "[embed:synthetic] progress 15/125 | elapsed=7.3s | avg/batch=0.49s | ETA~53.7s\n",
      "[embed:synthetic] progress 20/125 | elapsed=9.7s | avg/batch=0.49s | ETA~51.1s\n",
      "[embed:synthetic] progress 25/125 | elapsed=12.1s | avg/batch=0.49s | ETA~48.6s\n",
      "[embed:synthetic] progress 30/125 | elapsed=14.9s | avg/batch=0.50s | ETA~47.1s\n",
      "[embed:synthetic] progress 35/125 | elapsed=17.1s | avg/batch=0.49s | ETA~44.0s\n",
      "[embed:synthetic] progress 40/125 | elapsed=19.9s | avg/batch=0.50s | ETA~42.3s\n",
      "[embed:synthetic] progress 45/125 | elapsed=22.2s | avg/batch=0.49s | ETA~39.4s\n",
      "[embed:synthetic] progress 50/125 | elapsed=24.3s | avg/batch=0.49s | ETA~36.4s\n",
      "[embed:synthetic] progress 55/125 | elapsed=26.8s | avg/batch=0.49s | ETA~34.2s\n",
      "[embed:synthetic] progress 60/125 | elapsed=29.8s | avg/batch=0.50s | ETA~32.3s\n",
      "[embed:synthetic] progress 65/125 | elapsed=32.9s | avg/batch=0.51s | ETA~30.3s\n",
      "[embed:synthetic] progress 70/125 | elapsed=36.0s | avg/batch=0.51s | ETA~28.2s\n",
      "[embed:synthetic] progress 75/125 | elapsed=38.0s | avg/batch=0.51s | ETA~25.3s\n",
      "[embed:synthetic] progress 80/125 | elapsed=40.1s | avg/batch=0.50s | ETA~22.6s\n",
      "[embed:synthetic] progress 85/125 | elapsed=42.9s | avg/batch=0.50s | ETA~20.2s\n",
      "[embed:synthetic] progress 90/125 | elapsed=45.0s | avg/batch=0.50s | ETA~17.5s\n",
      "[embed:synthetic] progress 95/125 | elapsed=47.3s | avg/batch=0.50s | ETA~14.9s\n",
      "[embed:synthetic] progress 100/125 | elapsed=49.5s | avg/batch=0.49s | ETA~12.4s\n",
      "[embed:synthetic] progress 105/125 | elapsed=52.5s | avg/batch=0.50s | ETA~10.0s\n",
      "[embed:synthetic] progress 110/125 | elapsed=54.2s | avg/batch=0.49s | ETA~7.4s\n",
      "[embed:synthetic] progress 115/125 | elapsed=57.4s | avg/batch=0.50s | ETA~5.0s\n",
      "[embed:synthetic] progress 120/125 | elapsed=60.7s | avg/batch=0.51s | ETA~2.5s\n",
      "[embed:synthetic] progress 125/125 | elapsed=63.3s | avg/batch=0.51s | ETA~0.0s\n",
      "[embed:synthetic] done in 63.3s\n",
      "[wasserstein] projections 10/128 | elapsed=0.0s | avg/proj=0.003s | ETA~0.4s\n",
      "[wasserstein] projections 20/128 | elapsed=0.1s | avg/proj=0.003s | ETA~0.3s\n",
      "[wasserstein] projections 30/128 | elapsed=0.1s | avg/proj=0.003s | ETA~0.3s\n",
      "[wasserstein] projections 40/128 | elapsed=0.1s | avg/proj=0.003s | ETA~0.3s\n",
      "[wasserstein] projections 50/128 | elapsed=0.1s | avg/proj=0.003s | ETA~0.2s\n",
      "[wasserstein] projections 60/128 | elapsed=0.2s | avg/proj=0.003s | ETA~0.2s\n",
      "[wasserstein] projections 70/128 | elapsed=0.2s | avg/proj=0.003s | ETA~0.2s\n",
      "[wasserstein] projections 80/128 | elapsed=0.2s | avg/proj=0.003s | ETA~0.1s\n",
      "[wasserstein] projections 90/128 | elapsed=0.3s | avg/proj=0.003s | ETA~0.1s\n",
      "[wasserstein] projections 100/128 | elapsed=0.3s | avg/proj=0.003s | ETA~0.1s\n",
      "[wasserstein] projections 110/128 | elapsed=0.3s | avg/proj=0.003s | ETA~0.1s\n",
      "[wasserstein] projections 120/128 | elapsed=0.3s | avg/proj=0.003s | ETA~0.0s\n",
      "[wasserstein] projections 128/128 | elapsed=0.4s | avg/proj=0.003s | ETA~0.0s\n"
     ]
    }
   ],
   "source": [
    "wd = wasserstein_distance_embeddings(cnn_train['article'].sample(1000, random_state=42), tinyllama_data['generated_article'], n_projections=128)"
   ]
  },
  {
   "cell_type": "code",
   "execution_count": 14,
   "metadata": {},
   "outputs": [
    {
     "data": {
      "text/plain": [
       "{'mean_distance': 0.18677199570207928,\n",
       " 'distances': [0.03386680243086891,\n",
       "  0.13545763071156314,\n",
       "  0.05560612915598394,\n",
       "  0.11469221387437938,\n",
       "  0.16262268942037883,\n",
       "  0.07505124159315679,\n",
       "  0.17207024716239072,\n",
       "  0.14755202405419743,\n",
       "  0.29010557784006163,\n",
       "  0.22645292630094083,\n",
       "  0.15862075507372556,\n",
       "  0.3991889076570622,\n",
       "  0.01349262700678944,\n",
       "  0.03022434033998387,\n",
       "  0.5015110460533206,\n",
       "  0.22782751710933058,\n",
       "  0.06646386675173015,\n",
       "  0.32162927963660026,\n",
       "  0.05530110350177157,\n",
       "  0.12391061870170042,\n",
       "  0.15335110849796013,\n",
       "  0.24391709586479415,\n",
       "  0.07359275165058485,\n",
       "  0.09087225088091751,\n",
       "  0.2608741821658789,\n",
       "  0.09904382957606749,\n",
       "  0.027911155972345975,\n",
       "  0.10393881749158124,\n",
       "  0.26968685000376047,\n",
       "  0.09211645534357973,\n",
       "  0.06583862784712036,\n",
       "  0.04253818242350693,\n",
       "  0.2785969844820127,\n",
       "  0.18767998163979066,\n",
       "  0.3047907937181493,\n",
       "  0.05931221067392144,\n",
       "  0.21785647935635039,\n",
       "  0.26609346102297105,\n",
       "  0.3155713033517564,\n",
       "  0.03842402754561618,\n",
       "  0.15832716226575327,\n",
       "  0.19191285099880862,\n",
       "  0.5714234093811392,\n",
       "  0.17809024879451366,\n",
       "  0.04460729851547329,\n",
       "  0.09346970654998221,\n",
       "  0.027011867801355983,\n",
       "  0.04890451991799302,\n",
       "  0.13071083106477416,\n",
       "  0.3119203424025237,\n",
       "  0.3679686200642079,\n",
       "  0.33624044616881477,\n",
       "  0.024765748752961968,\n",
       "  0.07176853085292081,\n",
       "  0.5619804370830952,\n",
       "  0.33808399035908,\n",
       "  0.3286209487360196,\n",
       "  0.09116344677117431,\n",
       "  0.2517255941169233,\n",
       "  0.19968788637098206,\n",
       "  0.026210808713115912,\n",
       "  0.026404967444707904,\n",
       "  0.18051251665802148,\n",
       "  0.28613096968151575,\n",
       "  0.27081263354505924,\n",
       "  0.13327064381976048,\n",
       "  0.05124960529286964,\n",
       "  0.09401231168508133,\n",
       "  0.44526298252384844,\n",
       "  0.09363433331457557,\n",
       "  0.19932741986214242,\n",
       "  0.06055917740195223,\n",
       "  0.08262084675978318,\n",
       "  0.06610869449443303,\n",
       "  0.27074537533056003,\n",
       "  0.19242997714609245,\n",
       "  0.04269379096670066,\n",
       "  0.5370393594989091,\n",
       "  0.29773546914888704,\n",
       "  0.13878010114382358,\n",
       "  0.16629196933662688,\n",
       "  0.27577082557782856,\n",
       "  0.3201566059135991,\n",
       "  0.03792551066005181,\n",
       "  0.05673433365609404,\n",
       "  0.3222300274625325,\n",
       "  0.21489943167988057,\n",
       "  0.27764717396311867,\n",
       "  0.3452429184189011,\n",
       "  0.19741575331209021,\n",
       "  0.28780930623142553,\n",
       "  0.06909920751725038,\n",
       "  0.2579995992410896,\n",
       "  0.07268271259813038,\n",
       "  0.14604882919959758,\n",
       "  0.2816385584616926,\n",
       "  0.03774214684083909,\n",
       "  0.16147623244844883,\n",
       "  0.2018479585001696,\n",
       "  0.181280659582088,\n",
       "  0.07476321712300207,\n",
       "  0.2133014172930621,\n",
       "  0.20738193035143848,\n",
       "  0.1226054342162442,\n",
       "  0.35333638321469335,\n",
       "  0.03383576024546394,\n",
       "  0.10110440878634552,\n",
       "  0.14171662439846572,\n",
       "  0.3818600153636069,\n",
       "  0.2027712710594778,\n",
       "  0.2062412674956247,\n",
       "  0.3213291418921259,\n",
       "  0.25698728490266176,\n",
       "  0.2374356300045982,\n",
       "  0.29639976963658066,\n",
       "  0.1444748839377565,\n",
       "  0.32168191351648046,\n",
       "  0.1857144831539893,\n",
       "  0.31871703202254875,\n",
       "  0.2251374965497122,\n",
       "  0.11233823616096583,\n",
       "  0.28884695268329996,\n",
       "  0.1532634964804348,\n",
       "  0.14585843658138015,\n",
       "  0.19285242392264687,\n",
       "  0.13732578049290942,\n",
       "  0.028689501656918023,\n",
       "  0.2613255308373188]}"
      ]
     },
     "execution_count": 14,
     "metadata": {},
     "output_type": "execute_result"
    }
   ],
   "source": [
    "wd"
   ]
  },
  {
   "cell_type": "markdown",
   "metadata": {},
   "source": [
    "### Runnning Classification (Real vs. Synthetic)"
   ]
  },
  {
   "cell_type": "code",
   "execution_count": 15,
   "metadata": {},
   "outputs": [
    {
     "name": "stdout",
     "output_type": "stream",
     "text": [
      "[classify] batch_size=8 max_length=2048 cv=5 Cs=[0.1, 0.5, 1.0, 2.0, 5.0]\n",
      "[embed:real] device=cuda batch_size=8 max_length(req)=2048 max_length(eff)=2048 num_docs=1000\n",
      "[embed:real] progress 5/125 | elapsed=2.8s | avg/batch=0.55s | ETA~66.5s\n",
      "[embed:real] progress 10/125 | elapsed=5.6s | avg/batch=0.56s | ETA~64.3s\n",
      "[embed:real] progress 15/125 | elapsed=8.8s | avg/batch=0.59s | ETA~64.5s\n",
      "[embed:real] progress 20/125 | elapsed=11.4s | avg/batch=0.57s | ETA~60.0s\n",
      "[embed:real] progress 25/125 | elapsed=14.4s | avg/batch=0.58s | ETA~57.7s\n",
      "[embed:real] progress 30/125 | elapsed=16.9s | avg/batch=0.56s | ETA~53.4s\n",
      "[embed:real] progress 35/125 | elapsed=19.6s | avg/batch=0.56s | ETA~50.3s\n",
      "[embed:real] progress 40/125 | elapsed=22.3s | avg/batch=0.56s | ETA~47.5s\n",
      "[embed:real] progress 45/125 | elapsed=25.0s | avg/batch=0.56s | ETA~44.5s\n",
      "[embed:real] progress 50/125 | elapsed=28.4s | avg/batch=0.57s | ETA~42.6s\n",
      "[embed:real] progress 55/125 | elapsed=31.6s | avg/batch=0.57s | ETA~40.2s\n",
      "[embed:real] progress 60/125 | elapsed=34.3s | avg/batch=0.57s | ETA~37.2s\n",
      "[embed:real] progress 65/125 | elapsed=37.3s | avg/batch=0.57s | ETA~34.4s\n",
      "[embed:real] progress 70/125 | elapsed=39.8s | avg/batch=0.57s | ETA~31.2s\n",
      "[embed:real] progress 75/125 | elapsed=42.0s | avg/batch=0.56s | ETA~28.0s\n",
      "[embed:real] progress 80/125 | elapsed=45.2s | avg/batch=0.57s | ETA~25.4s\n",
      "[embed:real] progress 85/125 | elapsed=47.9s | avg/batch=0.56s | ETA~22.5s\n",
      "[embed:real] progress 90/125 | elapsed=50.7s | avg/batch=0.56s | ETA~19.7s\n",
      "[embed:real] progress 95/125 | elapsed=54.3s | avg/batch=0.57s | ETA~17.2s\n",
      "[embed:real] progress 100/125 | elapsed=57.2s | avg/batch=0.57s | ETA~14.3s\n",
      "[embed:real] progress 105/125 | elapsed=60.3s | avg/batch=0.57s | ETA~11.5s\n",
      "[embed:real] progress 110/125 | elapsed=62.6s | avg/batch=0.57s | ETA~8.5s\n",
      "[embed:real] progress 115/125 | elapsed=66.0s | avg/batch=0.57s | ETA~5.7s\n",
      "[embed:real] progress 120/125 | elapsed=69.1s | avg/batch=0.58s | ETA~2.9s\n",
      "[embed:real] progress 125/125 | elapsed=72.3s | avg/batch=0.58s | ETA~0.0s\n",
      "[embed:real] done in 72.3s\n",
      "[embed:synthetic] device=cuda batch_size=8 max_length(req)=2048 max_length(eff)=2048 num_docs=1000\n",
      "[embed:synthetic] progress 5/125 | elapsed=2.6s | avg/batch=0.52s | ETA~62.3s\n",
      "[embed:synthetic] progress 10/125 | elapsed=5.1s | avg/batch=0.51s | ETA~58.3s\n",
      "[embed:synthetic] progress 15/125 | elapsed=7.2s | avg/batch=0.48s | ETA~53.0s\n",
      "[embed:synthetic] progress 20/125 | elapsed=9.6s | avg/batch=0.48s | ETA~50.2s\n",
      "[embed:synthetic] progress 25/125 | elapsed=11.9s | avg/batch=0.48s | ETA~47.7s\n",
      "[embed:synthetic] progress 30/125 | elapsed=14.6s | avg/batch=0.49s | ETA~46.2s\n",
      "[embed:synthetic] progress 35/125 | elapsed=16.8s | avg/batch=0.48s | ETA~43.3s\n",
      "[embed:synthetic] progress 40/125 | elapsed=19.7s | avg/batch=0.49s | ETA~41.8s\n",
      "[embed:synthetic] progress 45/125 | elapsed=22.0s | avg/batch=0.49s | ETA~39.1s\n",
      "[embed:synthetic] progress 50/125 | elapsed=24.1s | avg/batch=0.48s | ETA~36.2s\n",
      "[embed:synthetic] progress 55/125 | elapsed=26.7s | avg/batch=0.49s | ETA~34.0s\n",
      "[embed:synthetic] progress 60/125 | elapsed=29.8s | avg/batch=0.50s | ETA~32.3s\n",
      "[embed:synthetic] progress 65/125 | elapsed=33.0s | avg/batch=0.51s | ETA~30.4s\n",
      "[embed:synthetic] progress 70/125 | elapsed=36.1s | avg/batch=0.52s | ETA~28.4s\n",
      "[embed:synthetic] progress 75/125 | elapsed=38.2s | avg/batch=0.51s | ETA~25.5s\n",
      "[embed:synthetic] progress 80/125 | elapsed=40.3s | avg/batch=0.50s | ETA~22.7s\n",
      "[embed:synthetic] progress 85/125 | elapsed=43.1s | avg/batch=0.51s | ETA~20.3s\n",
      "[embed:synthetic] progress 90/125 | elapsed=45.2s | avg/batch=0.50s | ETA~17.6s\n",
      "[embed:synthetic] progress 95/125 | elapsed=47.6s | avg/batch=0.50s | ETA~15.0s\n",
      "[embed:synthetic] progress 100/125 | elapsed=49.8s | avg/batch=0.50s | ETA~12.4s\n",
      "[embed:synthetic] progress 105/125 | elapsed=52.8s | avg/batch=0.50s | ETA~10.1s\n",
      "[embed:synthetic] progress 110/125 | elapsed=54.5s | avg/batch=0.50s | ETA~7.4s\n",
      "[embed:synthetic] progress 115/125 | elapsed=57.8s | avg/batch=0.50s | ETA~5.0s\n",
      "[embed:synthetic] progress 120/125 | elapsed=61.1s | avg/batch=0.51s | ETA~2.5s\n",
      "[embed:synthetic] progress 125/125 | elapsed=63.7s | avg/batch=0.51s | ETA~0.0s\n",
      "[embed:synthetic] done in 63.7s\n",
      "[classify] fitting LogisticRegressionCV...\n",
      "[classify] fit done in 14.7s\n"
     ]
    }
   ],
   "source": [
    "clf_res = classify_real_vs_synth(cnn_train['article'].sample(1000, random_state=42), tinyllama_data['generated_article'], cv=5)"
   ]
  },
  {
   "cell_type": "code",
   "execution_count": 16,
   "metadata": {},
   "outputs": [
    {
     "data": {
      "text/plain": [
       "{'metrics': {'accuracy': 1.0, 'macro_f1': 1.0, 'roc_auc': 1.0},\n",
       " 'report': {'real': {'precision': 1.0,\n",
       "   'recall': 1.0,\n",
       "   'f1-score': 1.0,\n",
       "   'support': 200.0},\n",
       "  'synthetic': {'precision': 1.0,\n",
       "   'recall': 1.0,\n",
       "   'f1-score': 1.0,\n",
       "   'support': 200.0},\n",
       "  'accuracy': 1.0,\n",
       "  'macro avg': {'precision': 1.0,\n",
       "   'recall': 1.0,\n",
       "   'f1-score': 1.0,\n",
       "   'support': 400.0},\n",
       "  'weighted avg': {'precision': 1.0,\n",
       "   'recall': 1.0,\n",
       "   'f1-score': 1.0,\n",
       "   'support': 400.0}},\n",
       " 'embeddings_shape': (2000, 768),\n",
       " 'classifier': Pipeline(steps=[('standardscaler', StandardScaler()),\n",
       "                 ('logisticregressioncv',\n",
       "                  LogisticRegressionCV(Cs=[0.1, 0.5, 1.0, 2.0, 5.0], cv=5,\n",
       "                                       max_iter=5000, n_jobs=-1,\n",
       "                                       scoring='roc_auc', solver='saga'))])}"
      ]
     },
     "execution_count": 16,
     "metadata": {},
     "output_type": "execute_result"
    }
   ],
   "source": [
    "clf_res"
   ]
  },
  {
   "cell_type": "markdown",
   "metadata": {},
   "source": [
    "# Visualize?"
   ]
  }
 ],
 "metadata": {
  "kernelspec": {
   "display_name": "Python 3",
   "language": "python",
   "name": "python3"
  },
  "language_info": {
   "codemirror_mode": {
    "name": "ipython",
    "version": 3
   },
   "file_extension": ".py",
   "mimetype": "text/x-python",
   "name": "python",
   "nbconvert_exporter": "python",
   "pygments_lexer": "ipython3",
   "version": "3.12.4"
  }
 },
 "nbformat": 4,
 "nbformat_minor": 2
}
