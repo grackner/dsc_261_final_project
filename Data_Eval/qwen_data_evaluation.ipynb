{
 "cells": [
  {
   "cell_type": "markdown",
   "metadata": {},
   "source": [
    "# Setup"
   ]
  },
  {
   "cell_type": "code",
   "execution_count": null,
   "metadata": {},
   "outputs": [],
   "source": [
    "import pandas as pd\n",
    "import numpy as np\n",
    "\n",
    "from eval_funcs import (\n",
    "        perplexity_for_corpora,\n",
    "        wasserstein_distance_embeddings,\n",
    "        classify_real_vs_synth,\n",
    "        compute_stat_properties\n",
    "    )"
   ]
  },
  {
   "cell_type": "markdown",
   "metadata": {},
   "source": [
    "# Import Real Dataset"
   ]
  },
  {
   "cell_type": "code",
   "execution_count": null,
   "metadata": {},
   "outputs": [],
   "source": [
    "import kagglehub\n",
    "\n",
    "# Download latest version\n",
    "path = kagglehub.dataset_download(\"gowrishankarp/newspaper-text-summarization-cnn-dailymail\")\n",
    "\n",
    "print(\"Path to dataset files:\", path)"
   ]
  },
  {
   "cell_type": "code",
   "execution_count": null,
   "metadata": {},
   "outputs": [],
   "source": [
    "cnn_train = pd.read_csv(r'C:\\Users\\loren\\.cache\\kagglehub\\datasets\\gowrishankarp\\newspaper-text-summarization-cnn-dailymail\\versions\\2\\cnn_dailymail\\train.csv')"
   ]
  },
  {
   "cell_type": "code",
   "execution_count": null,
   "metadata": {},
   "outputs": [],
   "source": [
    "cnn_train.head(2)"
   ]
  },
  {
   "cell_type": "markdown",
   "metadata": {},
   "source": [
    "# Import TinyLlama Synthetic Dataset"
   ]
  },
  {
   "cell_type": "code",
   "execution_count": null,
   "metadata": {},
   "outputs": [],
   "source": [
    "qwen_data = pd.read_csv('../qwen_outputs.csv').drop('Unnamed: 0', axis=1)"
   ]
  },
  {
   "cell_type": "code",
   "execution_count": null,
   "metadata": {},
   "outputs": [],
   "source": [
    "qwen_data.head(2)"
   ]
  },
  {
   "cell_type": "code",
   "execution_count": null,
   "metadata": {},
   "outputs": [],
   "source": [
    "qwen_data['generated_article'].shape"
   ]
  },
  {
   "cell_type": "code",
   "execution_count": null,
   "metadata": {},
   "outputs": [],
   "source": [
    "qwen_data['generated_article'].str.split(' ').transform(lambda x: len(x)).max()"
   ]
  },
  {
   "cell_type": "markdown",
   "metadata": {},
   "source": [
    "# Run Eval Functions"
   ]
  },
  {
   "cell_type": "markdown",
   "metadata": {},
   "source": [
    "### Running Statistical Properties Metrics on TinyLlama Data"
   ]
  },
  {
   "cell_type": "code",
   "execution_count": null,
   "metadata": {},
   "outputs": [],
   "source": [
    "stats = compute_stat_properties(qwen_data['generated_article'], max_length=4096)"
   ]
  },
  {
   "cell_type": "code",
   "execution_count": null,
   "metadata": {},
   "outputs": [],
   "source": [
    "stats"
   ]
  },
  {
   "cell_type": "markdown",
   "metadata": {},
   "source": [
    "### Running Perplexity Scores"
   ]
  },
  {
   "cell_type": "code",
   "execution_count": null,
   "metadata": {},
   "outputs": [],
   "source": [
    "ppl = perplexity_for_corpora(cnn_train['article'].sample(1000, random_state=42), qwen_data['generated_article'], batch_size=8, max_length=2048)"
   ]
  },
  {
   "cell_type": "code",
   "execution_count": null,
   "metadata": {},
   "outputs": [],
   "source": [
    "ppl"
   ]
  },
  {
   "cell_type": "markdown",
   "metadata": {},
   "source": [
    "### Running Wasserstein Distance"
   ]
  },
  {
   "cell_type": "code",
   "execution_count": null,
   "metadata": {},
   "outputs": [],
   "source": [
    "wd = wasserstein_distance_embeddings(cnn_train['article'].sample(1000, random_state=42), qwen_data['generated_article'], n_projections=128)"
   ]
  },
  {
   "cell_type": "code",
   "execution_count": null,
   "metadata": {},
   "outputs": [],
   "source": [
    "wd"
   ]
  },
  {
   "cell_type": "markdown",
   "metadata": {},
   "source": [
    "### Runnning Classification (Real vs. Synthetic)"
   ]
  },
  {
   "cell_type": "code",
   "execution_count": null,
   "metadata": {},
   "outputs": [],
   "source": [
    "clf_res = classify_real_vs_synth(cnn_train['article'].sample(1000, random_state=42), qwen_data['generated_article'], cv=5)"
   ]
  },
  {
   "cell_type": "code",
   "execution_count": null,
   "metadata": {},
   "outputs": [],
   "source": [
    "clf_res"
   ]
  },
  {
   "cell_type": "markdown",
   "metadata": {},
   "source": [
    "# Data Quality Visualizations"
   ]
  },
  {
   "cell_type": "markdown",
   "metadata": {},
   "source": [
    "Article Length"
   ]
  },
  {
   "cell_type": "code",
   "execution_count": null,
   "metadata": {},
   "outputs": [],
   "source": [
    "import matplotlib.pyplot as plt\n",
    "import seaborn as sns\n",
    "import pandas as pd\n",
    "\n",
    "# Sample real data to match synthetic data size\n",
    "real_texts = cnn_train['article'].sample(1000, random_state=42)\n",
    "synth_texts = qwen_data['generated_article']\n",
    "\n",
    "len_real = real_texts.str.split().str.len()\n",
    "len_synth = synth_texts.str.split().str.len()\n",
    "\n",
    "# Create the plot\n",
    "plt.figure(figsize=(10, 6))\n",
    "sns.kdeplot(len_real, label='Real (CNN)', fill=True, alpha=0.5, clip=(0, 4000))\n",
    "sns.kdeplot(len_synth, label='Synthetic (Qwen)', fill=True, alpha=0.5, clip=(0, 4000))\n",
    "\n",
    "plt.title('Distribution of Article Lengths (in Tokens)', fontsize=16)\n",
    "plt.xlabel('Article Length')\n",
    "plt.ylabel('Density')\n",
    "plt.legend()\n",
    "plt.savefig('article_length_distribution.png')\n",
    "plt.show();"
   ]
  },
  {
   "cell_type": "markdown",
   "metadata": {},
   "source": [
    "Perplexity"
   ]
  },
  {
   "cell_type": "code",
   "execution_count": null,
   "metadata": {},
   "outputs": [],
   "source": [
    "import matplotlib.pyplot as plt\n",
    "import seaborn as sns\n",
    "\n",
    "# 1. Get the data from your 'ppl' variable\n",
    "ppl_scores = {\n",
    "    'Real (CNN)': ppl['real']['corpus_ppl'],\n",
    "    'Synthetic (TinyLlama)': ppl['synthetic']['corpus_ppl']\n",
    "}\n",
    "\n",
    "# 2. Create the plot\n",
    "plt.figure(figsize=(7, 5))\n",
    "sns.barplot(x=list(ppl_scores.keys()), y=list(ppl_scores.values()))\n",
    "\n",
    "plt.title('Perplexity Score Comparison', fontsize=16)\n",
    "plt.ylabel('Perplexity (Lower is Better)')\n",
    "plt.savefig('perplexity_comparison.png')\n",
    "plt.show();"
   ]
  },
  {
   "cell_type": "markdown",
   "metadata": {},
   "source": [
    "Wasserstein Distance"
   ]
  },
  {
   "cell_type": "code",
   "execution_count": null,
   "metadata": {},
   "outputs": [],
   "source": [
    "import matplotlib.pyplot as plt\n",
    "import seaborn as sns\n",
    "\n",
    "# Get data from 'wd'\n",
    "distances = wd['mean_distance']\n",
    "mean_dist = wd['mean_distance']\n",
    "\n",
    "# Create plot\n",
    "plt.figure(figsize=(10, 6))\n",
    "sns.histplot(distances, bins=30, kde=True)\n",
    "\n",
    "plt.axvline(mean_dist, color='red', linestyle='--', label=f'Mean Distance: {mean_dist:.3f}')\n",
    "plt.title('Distribution of Wasserstein Distances (128 Projections)', fontsize=16)\n",
    "plt.xlabel('Wasserstein Distance')\n",
    "plt.ylabel('Frequency')\n",
    "plt.legend()\n",
    "plt.savefig('wasserstein_distance_distribution.png')\n",
    "plt.show();"
   ]
  },
  {
   "cell_type": "markdown",
   "metadata": {},
   "source": [
    "Classifier: t-SNE Plot of Real vs. Synthetic Embeddings"
   ]
  },
  {
   "cell_type": "code",
   "execution_count": null,
   "metadata": {},
   "outputs": [],
   "source": [
    "import matplotlib.pyplot as plt\n",
    "import seaborn as sns\n",
    "from sklearn.manifold import TSNE\n",
    "import numpy as np\n",
    "import pandas as pd\n",
    "\n",
    "# Compute embeddings\n",
    "\n",
    "real_texts = cnn_train['article'].sample(1000, random_state=42)\n",
    "synth_texts = qwen_data['generated_article']\n",
    "\n",
    "print(\"Computing embeddings for REAL texts (for t-SNE)...\")\n",
    "Er = compute_opt_embeddings(\n",
    "    real_texts, \n",
    "    batch_size=8, \n",
    "    max_length=2048, \n",
    "    verbose=True, \n",
    "    label=\"real_tsne\"\n",
    ")\n",
    "\n",
    "print(\"\\nComputing embeddings for SYNTHETIC texts (for t-SNE)...\")\n",
    "Es = compute_opt_embeddings(\n",
    "    synth_texts, \n",
    "    batch_size=8, \n",
    "    max_length=2048, \n",
    "    verbose=True, \n",
    "    label=\"synth_tsne\"\n",
    ")\n",
    "\n",
    "# Combine embeddings and create labels\n",
    "embeddings = np.concatenate([Er, Es], axis=0)\n",
    "labels = ['Real (CNN)'] * len(Er) + ['Synthetic (Qwen)'] * len(Es)\n",
    "\n",
    "print(f\"\\nRunning t-SNE on {embeddings.shape[0]} embeddings\")\n",
    "\n",
    "# Reduce 768 dimensions down to 2\n",
    "tsne = TSNE(n_components=2, random_state=42, perplexity=30, n_iter=1000)\n",
    "tsne_results = tsne.fit_transform(embeddings)\n",
    "\n",
    "# Create dataframe and plot\n",
    "\n",
    "df_tsne = pd.DataFrame({\n",
    "    'tsne_1': tsne_results[:, 0],\n",
    "    'tsne_2': tsne_results[:, 1],\n",
    "    'label': labels\n",
    "})\n",
    "\n",
    "plt.figure(figsize=(10, 8))\n",
    "sns.scatterplot(\n",
    "    x='tsne_1', y='tsne_2',\n",
    "    hue='label',\n",
    "    palette=sns.color_palette(\"hls\", 2),\n",
    "    data=df_tsne,\n",
    "    alpha=0.7\n",
    ")\n",
    "\n",
    "plt.title('t-SNE Projection of Real vs. Synthetic Embeddings (OPT-125m)', fontsize=16)\n",
    "plt.xlabel('t-SNE Component 1')\n",
    "plt.ylabel('t-SNE Component 2')\n",
    "plt.legend(loc='best')\n",
    "plt.savefig('tsne_embeddings.png')\n",
    "plt.show();"
   ]
  }
 ],
 "metadata": {
  "kernelspec": {
   "display_name": "Python 3",
   "language": "python",
   "name": "python3"
  },
  "language_info": {
   "codemirror_mode": {
    "name": "ipython",
    "version": 3
   },
   "file_extension": ".py",
   "mimetype": "text/x-python",
   "name": "python",
   "nbconvert_exporter": "python",
   "pygments_lexer": "ipython3",
   "version": "3.13.1"
  }
 },
 "nbformat": 4,
 "nbformat_minor": 2
}
