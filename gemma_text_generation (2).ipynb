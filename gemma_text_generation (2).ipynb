{
 "cells": [
  {
   "cell_type": "markdown",
   "metadata": {
    "id": "I52_Ek1HQG8d"
   },
   "source": [
    "## Gemma Text Generation"
   ]
  },
  {
   "cell_type": "markdown",
   "metadata": {
    "id": "UWzYJkccQ4n8"
   },
   "source": [
    "url: https://huggingface.co/google/gemma-2-2b-it"
   ]
  },
  {
   "cell_type": "code",
   "execution_count": 1,
   "metadata": {},
   "outputs": [],
   "source": [
    "import torch\n",
    "import torch.nn as nn\n",
    "import numpy as np\n",
    "import matplotlib.pyplot as plt\n",
    "import uuid\n",
    "import pandas as pd\n",
    "import kagglehub\n",
    "from transformers import AutoTokenizer, AutoModelForCausalLM"
   ]
  },
  {
   "cell_type": "markdown",
   "metadata": {
    "id": "7IgbA6u32FgO"
   },
   "source": [
    "To use Gemma:\n",
    "\n",
    "\n",
    "*   Accept Google's Terms & Conditions when prompted\n",
    "*   Create [HuggingFace token](https://huggingface.co/settings/tokens) with name HF_TOKEN\n",
    "  * Allow Read access to contents of all public gated repos you can access\n",
    "* In Colab: Secrets (key symbol on left) --> Name: HF_TOKEN; Value: your token value\n",
    "* ALTERNATIVELY: add `hf auth login` line of code (haven't tried this but it should work & is easier than creating a token)\n",
    "\n"
   ]
  },
  {
   "cell_type": "code",
   "execution_count": 2,
   "metadata": {},
   "outputs": [
    {
     "data": {
      "application/vnd.jupyter.widget-view+json": {
       "model_id": "92f7159d3af742dcafc18b7be8626a66",
       "version_major": 2,
       "version_minor": 0
      },
      "text/plain": [
       "tokenizer_config.json:   0%|          | 0.00/47.0k [00:00<?, ?B/s]"
      ]
     },
     "metadata": {},
     "output_type": "display_data"
    },
    {
     "data": {
      "application/vnd.jupyter.widget-view+json": {
       "model_id": "935a280a592c41049f4834759991c759",
       "version_major": 2,
       "version_minor": 0
      },
      "text/plain": [
       "tokenizer.model:   0%|          | 0.00/4.24M [00:00<?, ?B/s]"
      ]
     },
     "metadata": {},
     "output_type": "display_data"
    },
    {
     "data": {
      "application/vnd.jupyter.widget-view+json": {
       "model_id": "f68a4ec6a8354a16a3d1e52e23822499",
       "version_major": 2,
       "version_minor": 0
      },
      "text/plain": [
       "tokenizer.json:   0%|          | 0.00/17.5M [00:00<?, ?B/s]"
      ]
     },
     "metadata": {},
     "output_type": "display_data"
    },
    {
     "data": {
      "application/vnd.jupyter.widget-view+json": {
       "model_id": "edcd4f40246c43579c5204032abe1b11",
       "version_major": 2,
       "version_minor": 0
      },
      "text/plain": [
       "special_tokens_map.json:   0%|          | 0.00/636 [00:00<?, ?B/s]"
      ]
     },
     "metadata": {},
     "output_type": "display_data"
    },
    {
     "data": {
      "application/vnd.jupyter.widget-view+json": {
       "model_id": "0329483963cc4c7a88bcebe54e3e82b6",
       "version_major": 2,
       "version_minor": 0
      },
      "text/plain": [
       "config.json:   0%|          | 0.00/838 [00:00<?, ?B/s]"
      ]
     },
     "metadata": {},
     "output_type": "display_data"
    },
    {
     "data": {
      "application/vnd.jupyter.widget-view+json": {
       "model_id": "1be059d1a1be41f5a7fb76d2a29ce56f",
       "version_major": 2,
       "version_minor": 0
      },
      "text/plain": [
       "model.safetensors.index.json:   0%|          | 0.00/24.2k [00:00<?, ?B/s]"
      ]
     },
     "metadata": {},
     "output_type": "display_data"
    },
    {
     "data": {
      "application/vnd.jupyter.widget-view+json": {
       "model_id": "23709f4cb7d748d88bc1d47c161527dc",
       "version_major": 2,
       "version_minor": 0
      },
      "text/plain": [
       "Fetching 2 files:   0%|          | 0/2 [00:00<?, ?it/s]"
      ]
     },
     "metadata": {},
     "output_type": "display_data"
    },
    {
     "data": {
      "application/vnd.jupyter.widget-view+json": {
       "model_id": "f547285a7a494cd99f58bfc630202448",
       "version_major": 2,
       "version_minor": 0
      },
      "text/plain": [
       "model-00001-of-00002.safetensors:   0%|          | 0.00/4.99G [00:00<?, ?B/s]"
      ]
     },
     "metadata": {},
     "output_type": "display_data"
    },
    {
     "data": {
      "application/vnd.jupyter.widget-view+json": {
       "model_id": "f52059523ccb4ad9bae0101fafdd48ff",
       "version_major": 2,
       "version_minor": 0
      },
      "text/plain": [
       "model-00002-of-00002.safetensors:   0%|          | 0.00/241M [00:00<?, ?B/s]"
      ]
     },
     "metadata": {},
     "output_type": "display_data"
    },
    {
     "data": {
      "application/vnd.jupyter.widget-view+json": {
       "model_id": "8df886a3eac649e68909626fac3ceb0e",
       "version_major": 2,
       "version_minor": 0
      },
      "text/plain": [
       "Loading checkpoint shards:   0%|          | 0/2 [00:00<?, ?it/s]"
      ]
     },
     "metadata": {},
     "output_type": "display_data"
    },
    {
     "data": {
      "application/vnd.jupyter.widget-view+json": {
       "model_id": "a03f3c32ed6840d3b79a2f0d373bcbd0",
       "version_major": 2,
       "version_minor": 0
      },
      "text/plain": [
       "generation_config.json:   0%|          | 0.00/187 [00:00<?, ?B/s]"
      ]
     },
     "metadata": {},
     "output_type": "display_data"
    }
   ],
   "source": [
    "tokenizer = AutoTokenizer.from_pretrained(\"google/gemma-2-2b-it\")\n",
    "model = AutoModelForCausalLM.from_pretrained(\"google/gemma-2-2b-it\")"
   ]
  },
  {
   "cell_type": "code",
   "execution_count": 3,
   "metadata": {},
   "outputs": [
    {
     "data": {
      "text/plain": [
       "Gemma2ForCausalLM(\n",
       "  (model): Gemma2Model(\n",
       "    (embed_tokens): Embedding(256000, 2304, padding_idx=0)\n",
       "    (layers): ModuleList(\n",
       "      (0-25): 26 x Gemma2DecoderLayer(\n",
       "        (self_attn): Gemma2Attention(\n",
       "          (q_proj): Linear(in_features=2304, out_features=2048, bias=False)\n",
       "          (k_proj): Linear(in_features=2304, out_features=1024, bias=False)\n",
       "          (v_proj): Linear(in_features=2304, out_features=1024, bias=False)\n",
       "          (o_proj): Linear(in_features=2048, out_features=2304, bias=False)\n",
       "        )\n",
       "        (mlp): Gemma2MLP(\n",
       "          (gate_proj): Linear(in_features=2304, out_features=9216, bias=False)\n",
       "          (up_proj): Linear(in_features=2304, out_features=9216, bias=False)\n",
       "          (down_proj): Linear(in_features=9216, out_features=2304, bias=False)\n",
       "          (act_fn): GELUTanh()\n",
       "        )\n",
       "        (input_layernorm): Gemma2RMSNorm((2304,), eps=1e-06)\n",
       "        (post_attention_layernorm): Gemma2RMSNorm((2304,), eps=1e-06)\n",
       "        (pre_feedforward_layernorm): Gemma2RMSNorm((2304,), eps=1e-06)\n",
       "        (post_feedforward_layernorm): Gemma2RMSNorm((2304,), eps=1e-06)\n",
       "      )\n",
       "    )\n",
       "    (norm): Gemma2RMSNorm((2304,), eps=1e-06)\n",
       "    (rotary_emb): Gemma2RotaryEmbedding()\n",
       "  )\n",
       "  (lm_head): Linear(in_features=2304, out_features=256000, bias=False)\n",
       ")"
      ]
     },
     "execution_count": 3,
     "metadata": {},
     "output_type": "execute_result"
    }
   ],
   "source": [
    "# Move model to GPU\n",
    "device = torch.device(\"cuda\" if torch.cuda.is_available() else \"cpu\")\n",
    "model.to(device)"
   ]
  },
  {
   "cell_type": "code",
   "execution_count": 4,
   "metadata": {},
   "outputs": [
    {
     "name": "stdout",
     "output_type": "stream",
     "text": [
      "Michael Jordan is widely considered one of the greatest basketball players of all time. \n",
      "\n",
      "Here's a summary:\n",
      "\n",
      "* **Full Name:** Michael Jeffrey Jordan\n",
      "* **Born:** February 1\n"
     ]
    }
   ],
   "source": [
    "# Test inference\n",
    "messages = [\n",
    "    {\n",
    "        \"role\": \"user\",\n",
    "        \"content\": [\n",
    "            {\"type\": \"text\", \"text\": \"who is michael jordan?\"}\n",
    "        ]\n",
    "    },\n",
    "]\n",
    "inputs = tokenizer.apply_chat_template(\n",
    "\tmessages,\n",
    "\tadd_generation_prompt=True,\n",
    "\ttokenize=True,\n",
    "\treturn_dict=True,\n",
    "\treturn_tensors=\"pt\",\n",
    ").to(model.device)\n",
    "\n",
    "outputs = model.generate(**inputs, max_new_tokens=40)\n",
    "print(tokenizer.decode(outputs[0][inputs[\"input_ids\"].shape[-1]:]))"
   ]
  },
  {
   "cell_type": "code",
   "execution_count": 5,
   "metadata": {},
   "outputs": [],
   "source": [
    "# Create test dataset\n",
    "gemma_df = pd.DataFrame(columns=['uuid', 'generated_article'])"
   ]
  },
  {
   "cell_type": "code",
   "execution_count": 26,
   "metadata": {},
   "outputs": [],
   "source": [
    "def generate_article():\n",
    "  messages = [\n",
    "    {\n",
    "        \"role\": \"user\",\n",
    "        \"content\": [\n",
    "            {\"type\": \"text\", \"text\": f\"Write the body of a news article, do not include a headline or title. It can be about any topic\"}\n",
    "        ]\n",
    "    },\n",
    "  ]\n",
    "  inputs = tokenizer.apply_chat_template(\n",
    "    messages,\n",
    "    add_generation_prompt=True,\n",
    "    tokenize=True,\n",
    "    return_dict=True,\n",
    "    return_tensors=\"pt\",\n",
    "  ).to(model.device)\n",
    "\n",
    "  outputs = model.generate(**inputs, max_new_tokens=100, do_sample=True, temperature=1.1, top_p=0.95,top_k=50)\n",
    "  response = tokenizer.decode(outputs[0][inputs[\"input_ids\"].shape[-1]:])\n",
    "  return response"
   ]
  },
  {
   "cell_type": "code",
   "execution_count": 27,
   "metadata": {},
   "outputs": [],
   "source": [
    "# Generate articles\n",
    "n = 10 # Number of datapoints to create\n",
    "for i in range(0, n + 1):\n",
    "  # Add unique identifier for the row\n",
    "  gemma_df.loc[i, 'uuid'] = str(uuid.uuid4())\n",
    "  response = generate_article()\n",
    "  gemma_df.loc[i, 'generated_article'] = response"
   ]
  },
  {
   "cell_type": "code",
   "execution_count": 28,
   "metadata": {},
   "outputs": [
    {
     "data": {
      "application/vnd.google.colaboratory.intrinsic+json": {
       "summary": "{\n  \"name\": \"gemma_df\",\n  \"rows\": 11,\n  \"fields\": [\n    {\n      \"column\": \"uuid\",\n      \"properties\": {\n        \"dtype\": \"string\",\n        \"num_unique_values\": 11,\n        \"samples\": [\n          \"73306a09-348c-409e-b9ed-79034995e9a2\",\n          \"08f3d500-d967-4f95-9c6e-6ee8ef9a549d\",\n          \"c697c0c2-7494-4e1d-8c1c-f25057c692a0\"\n        ],\n        \"semantic_type\": \"\",\n        \"description\": \"\"\n      }\n    },\n    {\n      \"column\": \"generated_article\",\n      \"properties\": {\n        \"dtype\": \"string\",\n        \"num_unique_values\": 11,\n        \"samples\": [\n          \"The city of Portland, Oregon, is facing a growing concern over a mysterious influx of brightly colored, seemingly-artificial bird flocks.  The sightings, which began in late September, have baffled ornithologists and animal control officers alike.  \\n\\n\\u201cIt's like nothing we\\u2019ve ever seen before,\\u201d said Dr. Annabel Croft, a lead researcher at the Oregon Zoo. \\\"Their feathers are iridescent, almost unnatural, and they come in a bizarre array of colors and patterns \\u2013 not your typical\",\n          \"The community of Oakhaven woke up to a surreal sight this morning: the ancient Willow Creek, long considered a tranquil centerpiece of the town, was filled with an impossibly pink and swirling mass of bubbles. While many saw it as nothing more than an unusual atmospheric phenomenon, a handful of residents were deeply disturbed.  Local artist, Eleanor Wright, claims it to be a message: \\\"it's a sign,\\\" she said, standing in her garden surrounded by shimmering bubbles. \\\"The water is crying\",\n          \"The newly-crowned champion of the international baking competition, Amelia Garcia, took home more than just the coveted golden trophy. Her team, The Sugar Dreams, earned a substantial $100,000 prize for their innovative dessert: a layered cake featuring a molecular gastronomy foam that puffed up on contact. Garcia, a renowned pastry chef known for her playful yet elegant desserts, described the creation as a \\\"visual and gastronomic adventure\\\". \\n\\nDespite the initial challenge of mastering the intricate technique\"\n        ],\n        \"semantic_type\": \"\",\n        \"description\": \"\"\n      }\n    }\n  ]\n}",
       "type": "dataframe",
       "variable_name": "gemma_df"
      },
      "text/html": [
       "\n",
       "  <div id=\"df-e2bcc741-30f7-47b1-b1bb-8fbc0688f603\" class=\"colab-df-container\">\n",
       "    <div>\n",
       "<style scoped>\n",
       "    .dataframe tbody tr th:only-of-type {\n",
       "        vertical-align: middle;\n",
       "    }\n",
       "\n",
       "    .dataframe tbody tr th {\n",
       "        vertical-align: top;\n",
       "    }\n",
       "\n",
       "    .dataframe thead th {\n",
       "        text-align: right;\n",
       "    }\n",
       "</style>\n",
       "<table border=\"1\" class=\"dataframe\">\n",
       "  <thead>\n",
       "    <tr style=\"text-align: right;\">\n",
       "      <th></th>\n",
       "      <th>uuid</th>\n",
       "      <th>generated_article</th>\n",
       "    </tr>\n",
       "  </thead>\n",
       "  <tbody>\n",
       "    <tr>\n",
       "      <th>0</th>\n",
       "      <td>08f3d500-d967-4f95-9c6e-6ee8ef9a549d</td>\n",
       "      <td>The community of Oakhaven woke up to a surreal...</td>\n",
       "    </tr>\n",
       "    <tr>\n",
       "      <th>1</th>\n",
       "      <td>5da41b40-4793-4cfd-9458-1c84cb528005</td>\n",
       "      <td>The annual River City Balloon Glow was a resou...</td>\n",
       "    </tr>\n",
       "    <tr>\n",
       "      <th>2</th>\n",
       "      <td>5f95563d-5c07-401f-84ad-4c712494151d</td>\n",
       "      <td>The recent surge in popularity of \"cottagecore...</td>\n",
       "    </tr>\n",
       "    <tr>\n",
       "      <th>3</th>\n",
       "      <td>7fc91c3b-2b21-458d-86de-c94caacd8eb3</td>\n",
       "      <td>The city of Seattle's annual Emerald City Coll...</td>\n",
       "    </tr>\n",
       "    <tr>\n",
       "      <th>4</th>\n",
       "      <td>1bbac289-e94f-45bc-b880-ff9d9e1735aa</td>\n",
       "      <td>The annual Global Robotics Forum kicked off in...</td>\n",
       "    </tr>\n",
       "  </tbody>\n",
       "</table>\n",
       "</div>\n",
       "    <div class=\"colab-df-buttons\">\n",
       "\n",
       "  <div class=\"colab-df-container\">\n",
       "    <button class=\"colab-df-convert\" onclick=\"convertToInteractive('df-e2bcc741-30f7-47b1-b1bb-8fbc0688f603')\"\n",
       "            title=\"Convert this dataframe to an interactive table.\"\n",
       "            style=\"display:none;\">\n",
       "\n",
       "  <svg xmlns=\"http://www.w3.org/2000/svg\" height=\"24px\" viewBox=\"0 -960 960 960\">\n",
       "    <path d=\"M120-120v-720h720v720H120Zm60-500h600v-160H180v160Zm220 220h160v-160H400v160Zm0 220h160v-160H400v160ZM180-400h160v-160H180v160Zm440 0h160v-160H620v160ZM180-180h160v-160H180v160Zm440 0h160v-160H620v160Z\"/>\n",
       "  </svg>\n",
       "    </button>\n",
       "\n",
       "  <style>\n",
       "    .colab-df-container {\n",
       "      display:flex;\n",
       "      gap: 12px;\n",
       "    }\n",
       "\n",
       "    .colab-df-convert {\n",
       "      background-color: #E8F0FE;\n",
       "      border: none;\n",
       "      border-radius: 50%;\n",
       "      cursor: pointer;\n",
       "      display: none;\n",
       "      fill: #1967D2;\n",
       "      height: 32px;\n",
       "      padding: 0 0 0 0;\n",
       "      width: 32px;\n",
       "    }\n",
       "\n",
       "    .colab-df-convert:hover {\n",
       "      background-color: #E2EBFA;\n",
       "      box-shadow: 0px 1px 2px rgba(60, 64, 67, 0.3), 0px 1px 3px 1px rgba(60, 64, 67, 0.15);\n",
       "      fill: #174EA6;\n",
       "    }\n",
       "\n",
       "    .colab-df-buttons div {\n",
       "      margin-bottom: 4px;\n",
       "    }\n",
       "\n",
       "    [theme=dark] .colab-df-convert {\n",
       "      background-color: #3B4455;\n",
       "      fill: #D2E3FC;\n",
       "    }\n",
       "\n",
       "    [theme=dark] .colab-df-convert:hover {\n",
       "      background-color: #434B5C;\n",
       "      box-shadow: 0px 1px 3px 1px rgba(0, 0, 0, 0.15);\n",
       "      filter: drop-shadow(0px 1px 2px rgba(0, 0, 0, 0.3));\n",
       "      fill: #FFFFFF;\n",
       "    }\n",
       "  </style>\n",
       "\n",
       "    <script>\n",
       "      const buttonEl =\n",
       "        document.querySelector('#df-e2bcc741-30f7-47b1-b1bb-8fbc0688f603 button.colab-df-convert');\n",
       "      buttonEl.style.display =\n",
       "        google.colab.kernel.accessAllowed ? 'block' : 'none';\n",
       "\n",
       "      async function convertToInteractive(key) {\n",
       "        const element = document.querySelector('#df-e2bcc741-30f7-47b1-b1bb-8fbc0688f603');\n",
       "        const dataTable =\n",
       "          await google.colab.kernel.invokeFunction('convertToInteractive',\n",
       "                                                    [key], {});\n",
       "        if (!dataTable) return;\n",
       "\n",
       "        const docLinkHtml = 'Like what you see? Visit the ' +\n",
       "          '<a target=\"_blank\" href=https://colab.research.google.com/notebooks/data_table.ipynb>data table notebook</a>'\n",
       "          + ' to learn more about interactive tables.';\n",
       "        element.innerHTML = '';\n",
       "        dataTable['output_type'] = 'display_data';\n",
       "        await google.colab.output.renderOutput(dataTable, element);\n",
       "        const docLink = document.createElement('div');\n",
       "        docLink.innerHTML = docLinkHtml;\n",
       "        element.appendChild(docLink);\n",
       "      }\n",
       "    </script>\n",
       "  </div>\n",
       "\n",
       "\n",
       "    <div id=\"df-a8a0ea49-349d-4aca-b756-e0d0bed5005d\">\n",
       "      <button class=\"colab-df-quickchart\" onclick=\"quickchart('df-a8a0ea49-349d-4aca-b756-e0d0bed5005d')\"\n",
       "                title=\"Suggest charts\"\n",
       "                style=\"display:none;\">\n",
       "\n",
       "<svg xmlns=\"http://www.w3.org/2000/svg\" height=\"24px\"viewBox=\"0 0 24 24\"\n",
       "     width=\"24px\">\n",
       "    <g>\n",
       "        <path d=\"M19 3H5c-1.1 0-2 .9-2 2v14c0 1.1.9 2 2 2h14c1.1 0 2-.9 2-2V5c0-1.1-.9-2-2-2zM9 17H7v-7h2v7zm4 0h-2V7h2v10zm4 0h-2v-4h2v4z\"/>\n",
       "    </g>\n",
       "</svg>\n",
       "      </button>\n",
       "\n",
       "<style>\n",
       "  .colab-df-quickchart {\n",
       "      --bg-color: #E8F0FE;\n",
       "      --fill-color: #1967D2;\n",
       "      --hover-bg-color: #E2EBFA;\n",
       "      --hover-fill-color: #174EA6;\n",
       "      --disabled-fill-color: #AAA;\n",
       "      --disabled-bg-color: #DDD;\n",
       "  }\n",
       "\n",
       "  [theme=dark] .colab-df-quickchart {\n",
       "      --bg-color: #3B4455;\n",
       "      --fill-color: #D2E3FC;\n",
       "      --hover-bg-color: #434B5C;\n",
       "      --hover-fill-color: #FFFFFF;\n",
       "      --disabled-bg-color: #3B4455;\n",
       "      --disabled-fill-color: #666;\n",
       "  }\n",
       "\n",
       "  .colab-df-quickchart {\n",
       "    background-color: var(--bg-color);\n",
       "    border: none;\n",
       "    border-radius: 50%;\n",
       "    cursor: pointer;\n",
       "    display: none;\n",
       "    fill: var(--fill-color);\n",
       "    height: 32px;\n",
       "    padding: 0;\n",
       "    width: 32px;\n",
       "  }\n",
       "\n",
       "  .colab-df-quickchart:hover {\n",
       "    background-color: var(--hover-bg-color);\n",
       "    box-shadow: 0 1px 2px rgba(60, 64, 67, 0.3), 0 1px 3px 1px rgba(60, 64, 67, 0.15);\n",
       "    fill: var(--button-hover-fill-color);\n",
       "  }\n",
       "\n",
       "  .colab-df-quickchart-complete:disabled,\n",
       "  .colab-df-quickchart-complete:disabled:hover {\n",
       "    background-color: var(--disabled-bg-color);\n",
       "    fill: var(--disabled-fill-color);\n",
       "    box-shadow: none;\n",
       "  }\n",
       "\n",
       "  .colab-df-spinner {\n",
       "    border: 2px solid var(--fill-color);\n",
       "    border-color: transparent;\n",
       "    border-bottom-color: var(--fill-color);\n",
       "    animation:\n",
       "      spin 1s steps(1) infinite;\n",
       "  }\n",
       "\n",
       "  @keyframes spin {\n",
       "    0% {\n",
       "      border-color: transparent;\n",
       "      border-bottom-color: var(--fill-color);\n",
       "      border-left-color: var(--fill-color);\n",
       "    }\n",
       "    20% {\n",
       "      border-color: transparent;\n",
       "      border-left-color: var(--fill-color);\n",
       "      border-top-color: var(--fill-color);\n",
       "    }\n",
       "    30% {\n",
       "      border-color: transparent;\n",
       "      border-left-color: var(--fill-color);\n",
       "      border-top-color: var(--fill-color);\n",
       "      border-right-color: var(--fill-color);\n",
       "    }\n",
       "    40% {\n",
       "      border-color: transparent;\n",
       "      border-right-color: var(--fill-color);\n",
       "      border-top-color: var(--fill-color);\n",
       "    }\n",
       "    60% {\n",
       "      border-color: transparent;\n",
       "      border-right-color: var(--fill-color);\n",
       "    }\n",
       "    80% {\n",
       "      border-color: transparent;\n",
       "      border-right-color: var(--fill-color);\n",
       "      border-bottom-color: var(--fill-color);\n",
       "    }\n",
       "    90% {\n",
       "      border-color: transparent;\n",
       "      border-bottom-color: var(--fill-color);\n",
       "    }\n",
       "  }\n",
       "</style>\n",
       "\n",
       "      <script>\n",
       "        async function quickchart(key) {\n",
       "          const quickchartButtonEl =\n",
       "            document.querySelector('#' + key + ' button');\n",
       "          quickchartButtonEl.disabled = true;  // To prevent multiple clicks.\n",
       "          quickchartButtonEl.classList.add('colab-df-spinner');\n",
       "          try {\n",
       "            const charts = await google.colab.kernel.invokeFunction(\n",
       "                'suggestCharts', [key], {});\n",
       "          } catch (error) {\n",
       "            console.error('Error during call to suggestCharts:', error);\n",
       "          }\n",
       "          quickchartButtonEl.classList.remove('colab-df-spinner');\n",
       "          quickchartButtonEl.classList.add('colab-df-quickchart-complete');\n",
       "        }\n",
       "        (() => {\n",
       "          let quickchartButtonEl =\n",
       "            document.querySelector('#df-a8a0ea49-349d-4aca-b756-e0d0bed5005d button');\n",
       "          quickchartButtonEl.style.display =\n",
       "            google.colab.kernel.accessAllowed ? 'block' : 'none';\n",
       "        })();\n",
       "      </script>\n",
       "    </div>\n",
       "\n",
       "    </div>\n",
       "  </div>\n"
      ],
      "text/plain": [
       "                                   uuid  \\\n",
       "0  08f3d500-d967-4f95-9c6e-6ee8ef9a549d   \n",
       "1  5da41b40-4793-4cfd-9458-1c84cb528005   \n",
       "2  5f95563d-5c07-401f-84ad-4c712494151d   \n",
       "3  7fc91c3b-2b21-458d-86de-c94caacd8eb3   \n",
       "4  1bbac289-e94f-45bc-b880-ff9d9e1735aa   \n",
       "\n",
       "                                   generated_article  \n",
       "0  The community of Oakhaven woke up to a surreal...  \n",
       "1  The annual River City Balloon Glow was a resou...  \n",
       "2  The recent surge in popularity of \"cottagecore...  \n",
       "3  The city of Seattle's annual Emerald City Coll...  \n",
       "4  The annual Global Robotics Forum kicked off in...  "
      ]
     },
     "execution_count": 28,
     "metadata": {},
     "output_type": "execute_result"
    }
   ],
   "source": [
    "gemma_df.head()"
   ]
  },
  {
   "cell_type": "code",
   "execution_count": 39,
   "metadata": {},
   "outputs": [
    {
     "name": "stdout",
     "output_type": "stream",
     "text": [
      "0 The community of Oakhaven woke up to a surreal sight this morning: the ancient Willow Creek, long considered a tranquil centerpiece of the town, was filled with an impossibly pink and swirling mass of bubbles. While many saw it as nothing more than an unusual atmospheric phenomenon, a handful of residents were deeply disturbed.  Local artist, Eleanor Wright, claims it to be a message: \"it's a sign,\" she said, standing in her garden surrounded by shimmering bubbles. \"The water is crying\n",
      "1 The annual River City Balloon Glow was a resounding success this weekend, drawing crowds of over 5,000 people to River City Park.  Colorful hot air balloons illuminated the evening sky as attendees enjoyed live music, food vendors, and family-friendly activities.  Many families came out with their little ones, holding onto their balloons with a mix of excitement and wonder as they bounced and soared through the air.  Mayor Thompson, who served as honorary balloon pilot, remarked, \"It's\n",
      "2 The recent surge in popularity of \"cottagecore\" fashion is not simply a fleeting fad, but rather a reflection of deeper societal shifts, experts say.  While the initial focus on home-spun clothing, herbal remedies, and self-sufficiency was a charming retreat from the hectic pace of modern life, the trend's enduring appeal lies in its emphasis on simplicity, connection to nature, and a romanticized view of the past.  A growing number of young adults are seeking solace and a sense\n",
      "3 The city of Seattle's annual Emerald City College Bowl, once a beacon of community pride and competition, is facing an uncertain future. The event, a beloved tradition since the 1950s, has seen its attendance dwindle in recent years, with local universities increasingly skeptical of its academic impact and the public showing less interest. Despite attempts at revitalization, including new programming and collaborations, the College Bowl still struggles to attract the same level of excitement and participation as before. \n",
      "\n",
      "Local\n",
      "4 The annual Global Robotics Forum kicked off in Tokyo today, promising to be a pivotal gathering for the future of the industry. With a global audience tuning in, experts and industry giants discussed the latest advancements in AI, robotics technology, and potential applications across various sectors.  \n",
      "\n",
      "Key highlights included insightful presentations from leading researchers at the Japanese AI Center, highlighting groundbreaking advancements in natural language processing and personalized robotics.  Discussions on the impact of increased automation on human workers sparked lively debates on the ethical implications and social adjustments\n",
      "5 The city of Portland, Oregon, is facing a growing concern over a mysterious influx of brightly colored, seemingly-artificial bird flocks.  The sightings, which began in late September, have baffled ornithologists and animal control officers alike.  \n",
      "\n",
      "“It's like nothing we’ve ever seen before,” said Dr. Annabel Croft, a lead researcher at the Oregon Zoo. \"Their feathers are iridescent, almost unnatural, and they come in a bizarre array of colors and patterns – not your typical\n",
      "6 The recent explosion at the port of Beirut, Lebanon, has sparked widespread outrage and calls for investigations into the cause of the tragedy. Lebanese officials are investigating the possibility that a storage unit containing highly-flammable materials accidentally ignited, triggering a chain reaction leading to the devastating blast. While the exact cause is still under investigation, eyewitness accounts suggest the explosion was the result of a firestorm.  Local media is reporting that investigators have begun examining footage from security cameras and analyzing debris from the explosion to determine the\n",
      "7 The latest research has shown promising results in the fight against Alzheimer's disease, a neurological disorder affecting millions of people globally. The study, published in the prestigious journal \"Nature Medicine,\" observed a significant delay in cognitive decline in participants who received a novel drug designed to target amyloid plaques, the hallmark of Alzheimer's. While the drug is still undergoing clinical trials, it demonstrated a remarkable ability to reduce both the build-up of amyloid and associated brain lesions.  Experts believe this could be a breakthrough\n",
      "8 The annual \"Great Pumpkin Fest\" is expected to draw thousands to the sleepy town of Pumpkin Hollow this weekend.  The event, renowned for its massive carved pumpkins, festive activities and chili cook-off, brings a welcome economic boost to the normally quiet community. Local businesses, many of which had their sales slump throughout the year, were thrilled to see the return of \"Pumpkin Hollow Days\" - the local's nickname for the celebration. The streets already buzzed with anticipation as families arrived early,\n",
      "9 The newly-crowned champion of the international baking competition, Amelia Garcia, took home more than just the coveted golden trophy. Her team, The Sugar Dreams, earned a substantial $100,000 prize for their innovative dessert: a layered cake featuring a molecular gastronomy foam that puffed up on contact. Garcia, a renowned pastry chef known for her playful yet elegant desserts, described the creation as a \"visual and gastronomic adventure\". \n",
      "\n",
      "Despite the initial challenge of mastering the intricate technique\n"
     ]
    }
   ],
   "source": [
    "for i in range(10):\n",
    "  print(i, gemma_df['generated_article'][i])"
   ]
  },
  {
   "cell_type": "code",
   "execution_count": null,
   "metadata": {},
   "outputs": [],
   "source": [
    "gemma_df.to_csv(\"gemma_outputs.csv\")"
   ]
  }
 ],
 "metadata": {
  "language_info": {
   "name": "python"
  }
 },
 "nbformat": 4,
 "nbformat_minor": 0
}
