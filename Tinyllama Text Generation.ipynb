{
 "cells": [
  {
   "cell_type": "markdown",
   "metadata": {
    "id": "I52_Ek1HQG8d"
   },
   "source": [
    "## TinyLlama Generations\n"
   ]
  },
  {
   "cell_type": "code",
   "execution_count": 1,
   "metadata": {},
   "outputs": [],
   "source": [
    "import requests\n",
    "import json\n",
    "import os\n",
    "import random\n",
    "import time\n",
    "import uuid\n",
    "import pandas as pd\n",
    "\n",
    "OLLAMA_URL = \"http://localhost:11434/api/generate\"  \n",
    "MODEL_NAME = \"tinyllama\""
   ]
  },
  {
   "cell_type": "code",
   "execution_count": null,
   "metadata": {},
   "outputs": [],
   "source": [
    "# Create test dataset\n",
    "tinyllama_df = pd.DataFrame(columns=['uuid', 'topic', 'generated_article', 'elapsed_time'])"
   ]
  },
  {
   "cell_type": "code",
   "execution_count": null,
   "metadata": {},
   "outputs": [],
   "source": [
    "topics = [\"US - Crime + Justice\", \"World - Africa\", \"World - Americas\", \"World - Asia\", \"World - Australia\",\n",
    "          \"World - China\", \"World - Europe\", \"World - India\", \"World - Middle East\", \"World - United Kingdom\",\n",
    "          \"Politics - CNN Polls\", \"Politics - Elections\", \"Business - Tech\", \"Business - Media\", \"Business - Markets\",\n",
    "          \"Business - Pre-markets\", \"Business - After-Hours\", \"Business - Investing\", \"Business - Markets Now\",\n",
    "          \"Health - Fitness\", \"Health - Food\", \"Health - Sleep\", \"Health - Mindfulness\", \"Health - Relationships\",\n",
    "          \"Entertainment - Movies\", \"Entertainment - Television\", \"Entertainment - Celebrity\", \"Tech - Innovate\",\n",
    "          \"Tech - Foreseeable Future\", \"Tech - Innovative Cities\", \"Style - Arts\", \"Style - Design\", \"Style - Fashion\",\n",
    "          \"Style - Architecture\", \"Style - Luxury\", \"Style - Beauty\", \"Travel - Destinations\", \"Travel - Food & Drink\",\n",
    "          \"Travel - Lodging and Hotels\", \"Travel - News\", \"Sports - Pro Football\", \"Sports - College Football\",\n",
    "          \"Sports - Basketball\", \"Sports - Baseball\", \"Sports - Soccer\", \"Sports - Olympics\", \"Sports - Hockey\",\n",
    "          \"Science - Space\", \"Science - Life\", \"Science - Medicine\", \"Science - Climate\", \"Science - Solutions\",\n",
    "          \"Science - Weather\"]"
   ]
  },
  {
   "cell_type": "code",
   "execution_count": null,
   "metadata": {},
   "outputs": [],
   "source": [
    "def generate_article(topics):\n",
    "    n = len(topics)\n",
    "    i = random.randint(0, n - 1)\n",
    "    topic = topics[i]\n",
    "\n",
    "    prompt = f\"\"\"Write a full news article in the style of CNN or DailyMail.\n",
    "The story should sound realistic, factual, and human-written.\n",
    "Use natural journalistic language with short and medium-length sentences.\n",
    "Start with a strong lead paragraph summarizing who, what, where, and when.\n",
    "Then expand with quotes, context, background, and a final paragraph about next steps or reactions.\n",
    "Include realistic numbers, dates, and locations.\n",
    "The topic should be about {topic}\n",
    "Add 1–3 short quotes attributed to plausible people (officials, witnesses, or experts).\n",
    "Use neutral tone — no opinions, exaggeration, or bullet points.\n",
    "Output only the article text (no headline, no lists, no explanation, no \"to summarize\").\n",
    "End cleanly after several paragraphs.\"\"\"\n",
    "\n",
    "    # Send the request to your local Ollama instance\n",
    "    payload = {\n",
    "        \"model\": MODEL_NAME,\n",
    "        \"prompt\": prompt,\n",
    "        \"stream\": False,\n",
    "        \"options\": {\n",
    "            \"temperature\": 0.9,\n",
    "            \"top_p\": 0.95,\n",
    "            \"top_k\": 50\n",
    "        },\n",
    "        \"num_predict\": 750\n",
    "    }\n",
    "\n",
    "    response = requests.post(OLLAMA_URL, json=payload, timeout=600)\n",
    "    response.raise_for_status()\n",
    "    data = response.json()\n",
    "\n",
    "    # Return text content + topic for consistency with your Gemma version\n",
    "    return data.get(\"response\", \"\").strip(), topic"
   ]
  },
  {
   "cell_type": "code",
   "execution_count": null,
   "metadata": {},
   "outputs": [],
   "source": [
    "# Generate articles\n",
    "n = 5 # Number of datapoints to create\n",
    "for i in range(n):\n",
    "  # Add unique identifier for the row\n",
    "  tinyllama_df.loc[i, 'uuid'] = str(uuid.uuid4())\n",
    "  start_time = time.perf_counter()\n",
    "  response, topic = generate_article(topics)\n",
    "  end_time = time.perf_counter()\n",
    "  elapsed_time = end_time - start_time\n",
    "  tinyllama_df.loc[i, 'topic'] = topic\n",
    "  tinyllama_df.loc[i, 'generated_article'] = response\n",
    "  tinyllama_df.loc[i, 'elapsed_time'] = elapsed_time"
   ]
  },
  {
   "cell_type": "code",
   "execution_count": null,
   "metadata": {},
   "outputs": [],
   "source": [
    "tinyllama_df.head()"
   ]
  },
  {
   "cell_type": "code",
   "execution_count": null,
   "metadata": {},
   "outputs": [],
   "source": [
    "for i in range(n):\n",
    "  print(i, tinyllama_df['generated_article'][i])"
   ]
  },
  {
   "cell_type": "code",
   "execution_count": null,
   "metadata": {},
   "outputs": [],
   "source": [
    "tinyllama_df.to_csv(\"tinyllama_outputs.csv\")\n",
    "print(\"CSV saved as 'tinyllama_outputs.csv'\")"
   ]
  }
 ],
 "metadata": {
  "kernelspec": {
   "display_name": "venv",
   "language": "python",
   "name": "python3"
  },
  "language_info": {
   "codemirror_mode": {
    "name": "ipython",
    "version": 3
   },
   "file_extension": ".py",
   "mimetype": "text/x-python",
   "name": "python",
   "nbconvert_exporter": "python",
   "pygments_lexer": "ipython3",
   "version": "3.12.3"
  }
 },
 "nbformat": 4,
 "nbformat_minor": 0
}
