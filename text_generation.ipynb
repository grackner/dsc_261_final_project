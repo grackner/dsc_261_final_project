{
 "cells": [
  {
   "cell_type": "code",
   "execution_count": 1,
   "id": "1d112e17",
   "metadata": {},
   "outputs": [],
   "source": [
    "import torch\n",
    "import torch.nn as nn\n",
    "import numpy as np\n",
    "import matplotlib.pyplot as plt"
   ]
  },
  {
   "cell_type": "code",
   "execution_count": null,
   "id": "8250ecb2",
   "metadata": {},
   "outputs": [],
   "source": [
    "# Example generate text function\n",
    "def generate_text(model, device, char_idx_map, idx_to_char, max_len=1000, temp=0.8):\n",
    "    model.eval()\n",
    "    start_text = \"Macbeth\\n by William Shakespeare\\n Edited by Barbara A. Mowat and Paul Werstine\"\n",
    "    input_seq = [char_idx_map[c] for c in start_text]\n",
    "    input_tensor = torch.tensor(input_seq, dtype=torch.long).unsqueeze(0).to(device)\n",
    "    \n",
    "    model.to(device)\n",
    "    generated_text = start_text\n",
    "    for _ in range(max_len):\n",
    "        with torch.no_grad():\n",
    "            output, hidden = model(input_tensor)\n",
    "            output = output.squeeze().div(temp).exp()\n",
    "            predicted_idx = torch.multinomial(output, 1).item()\n",
    "            predicted_char = idx_to_char[predicted_idx]\n",
    "            generated_text += predicted_char\n",
    "            input_tensor = torch.cat((input_tensor[:, 1:], torch.tensor([[predicted_idx]], dtype=torch.long).to(device)), dim=1)\n",
    "    \n",
    "    return generated_text"
   ]
  },
  {
   "cell_type": "code",
   "execution_count": null,
   "id": "3fc9c04d",
   "metadata": {},
   "outputs": [],
   "source": [
    "# Example of function being called\n",
    "input_file = 'tiny_shakespeare.txt'\n",
    "device = torch.device(\"cuda\" if torch.cuda.is_available() else \"cpu\")\n",
    "\n",
    "encoded_text, vocab_size, char_to_idx, idx_to_char = encode_text(input_file)\n",
    "\n",
    "### Load the right config\n",
    "config_path = 'base_lstm_config.yaml' #'lstm_512_config.yaml' \n",
    "config = load_config(config_path)\n",
    "\n",
    "\n",
    "#### Load your trained model\n",
    "model = LSTMModel(vocab_size=vocab_size,\n",
    "                 embed_size=config['embed_size'],\n",
    "                hidden_size=config['hidden_size'],\n",
    "                num_layers=config['num_layers'])\n",
    "\n",
    "model_path = 'best_model_128_deep.pth' #'best_model.pth' #'LSTM_seq_len_4.pth'\n",
    "model.load_state_dict(torch.load(model_path, weights_only=True))\n",
    "\n",
    "# Example usage\n",
    "generated = generate_text(model, device, char_to_idx, idx_to_char, max_len=1000, temp=1)\n",
    "print(generated)"
   ]
  }
 ],
 "metadata": {
  "kernelspec": {
   "display_name": "Python 3",
   "language": "python",
   "name": "python3"
  },
  "language_info": {
   "codemirror_mode": {
    "name": "ipython",
    "version": 3
   },
   "file_extension": ".py",
   "mimetype": "text/x-python",
   "name": "python",
   "nbconvert_exporter": "python",
   "pygments_lexer": "ipython3",
   "version": "3.10.12"
  }
 },
 "nbformat": 4,
 "nbformat_minor": 5
}
