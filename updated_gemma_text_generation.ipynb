{
 "cells": [
  {
   "cell_type": "markdown",
   "metadata": {
    "id": "I52_Ek1HQG8d"
   },
   "source": [
    "## Gemma Text Generation"
   ]
  },
  {
   "cell_type": "markdown",
   "metadata": {
    "id": "UWzYJkccQ4n8"
   },
   "source": [
    "url: https://huggingface.co/google/gemma-2-2b-it"
   ]
  },
  {
   "cell_type": "code",
   "execution_count": 11,
   "metadata": {},
   "outputs": [],
   "source": [
    "import torch\n",
    "import torch.nn as nn\n",
    "import numpy as np\n",
    "import matplotlib.pyplot as plt\n",
    "import uuid\n",
    "import pandas as pd\n",
    "import kagglehub\n",
    "from transformers import AutoTokenizer, AutoModelForCausalLM\n",
    "import random\n",
    "import time"
   ]
  },
  {
   "cell_type": "markdown",
   "metadata": {
    "id": "7IgbA6u32FgO"
   },
   "source": [
    "To use Gemma:\n",
    "\n",
    "\n",
    "*   Accept Google's Terms & Conditions when prompted\n",
    "*   Create [HuggingFace token](https://huggingface.co/settings/tokens) with name HF_TOKEN\n",
    "  * Allow Read access to contents of all public gated repos you can access\n",
    "* In Colab: Secrets (key symbol on left) --> Name: HF_TOKEN; Value: your token value\n",
    "* ALTERNATIVELY: add `hf auth login` line of code (haven't tried this but it should work & is easier than creating a token)\n",
    "\n"
   ]
  },
  {
   "cell_type": "code",
   "execution_count": 2,
   "metadata": {},
   "outputs": [
    {
     "data": {
      "application/vnd.jupyter.widget-view+json": {
       "model_id": "91e56736461149fe9c2d6f8683fdc4f5",
       "version_major": 2,
       "version_minor": 0
      },
      "text/plain": [
       "tokenizer_config.json:   0%|          | 0.00/47.0k [00:00<?, ?B/s]"
      ]
     },
     "metadata": {},
     "output_type": "display_data"
    },
    {
     "data": {
      "application/vnd.jupyter.widget-view+json": {
       "model_id": "8ea56ccef8b3404dbcb3fe911acd166c",
       "version_major": 2,
       "version_minor": 0
      },
      "text/plain": [
       "tokenizer.model:   0%|          | 0.00/4.24M [00:00<?, ?B/s]"
      ]
     },
     "metadata": {},
     "output_type": "display_data"
    },
    {
     "data": {
      "application/vnd.jupyter.widget-view+json": {
       "model_id": "f836d88f51354fca854da70d304145ee",
       "version_major": 2,
       "version_minor": 0
      },
      "text/plain": [
       "tokenizer.json:   0%|          | 0.00/17.5M [00:00<?, ?B/s]"
      ]
     },
     "metadata": {},
     "output_type": "display_data"
    },
    {
     "data": {
      "application/vnd.jupyter.widget-view+json": {
       "model_id": "342f85d558834ff59452b3d29924a77b",
       "version_major": 2,
       "version_minor": 0
      },
      "text/plain": [
       "special_tokens_map.json:   0%|          | 0.00/636 [00:00<?, ?B/s]"
      ]
     },
     "metadata": {},
     "output_type": "display_data"
    },
    {
     "data": {
      "application/vnd.jupyter.widget-view+json": {
       "model_id": "500046178ac5409aa8a5fe67ec814e6b",
       "version_major": 2,
       "version_minor": 0
      },
      "text/plain": [
       "config.json:   0%|          | 0.00/838 [00:00<?, ?B/s]"
      ]
     },
     "metadata": {},
     "output_type": "display_data"
    },
    {
     "data": {
      "application/vnd.jupyter.widget-view+json": {
       "model_id": "bd603494138f4bbfbc969fb58c7960f9",
       "version_major": 2,
       "version_minor": 0
      },
      "text/plain": [
       "model.safetensors.index.json:   0%|          | 0.00/24.2k [00:00<?, ?B/s]"
      ]
     },
     "metadata": {},
     "output_type": "display_data"
    },
    {
     "data": {
      "application/vnd.jupyter.widget-view+json": {
       "model_id": "450671db35c849a9907fef34ee74b1fd",
       "version_major": 2,
       "version_minor": 0
      },
      "text/plain": [
       "Fetching 2 files:   0%|          | 0/2 [00:00<?, ?it/s]"
      ]
     },
     "metadata": {},
     "output_type": "display_data"
    },
    {
     "data": {
      "application/vnd.jupyter.widget-view+json": {
       "model_id": "ec34d49d99d94ccdb0fc2f8665a60546",
       "version_major": 2,
       "version_minor": 0
      },
      "text/plain": [
       "model-00002-of-00002.safetensors:   0%|          | 0.00/241M [00:00<?, ?B/s]"
      ]
     },
     "metadata": {},
     "output_type": "display_data"
    },
    {
     "data": {
      "application/vnd.jupyter.widget-view+json": {
       "model_id": "a4a2792dfa9c45889dbdc6e40e7dd62d",
       "version_major": 2,
       "version_minor": 0
      },
      "text/plain": [
       "model-00001-of-00002.safetensors:   0%|          | 0.00/4.99G [00:00<?, ?B/s]"
      ]
     },
     "metadata": {},
     "output_type": "display_data"
    },
    {
     "data": {
      "application/vnd.jupyter.widget-view+json": {
       "model_id": "09b69d1115d44ae7b72bbc3bf1ed703a",
       "version_major": 2,
       "version_minor": 0
      },
      "text/plain": [
       "Loading checkpoint shards:   0%|          | 0/2 [00:00<?, ?it/s]"
      ]
     },
     "metadata": {},
     "output_type": "display_data"
    },
    {
     "data": {
      "application/vnd.jupyter.widget-view+json": {
       "model_id": "8c67da50094c4e3e8989c9521d1a80b7",
       "version_major": 2,
       "version_minor": 0
      },
      "text/plain": [
       "generation_config.json:   0%|          | 0.00/187 [00:00<?, ?B/s]"
      ]
     },
     "metadata": {},
     "output_type": "display_data"
    }
   ],
   "source": [
    "tokenizer = AutoTokenizer.from_pretrained(\"google/gemma-2-2b-it\")\n",
    "model = AutoModelForCausalLM.from_pretrained(\"google/gemma-2-2b-it\")"
   ]
  },
  {
   "cell_type": "code",
   "execution_count": 3,
   "metadata": {},
   "outputs": [
    {
     "data": {
      "text/plain": [
       "Gemma2ForCausalLM(\n",
       "  (model): Gemma2Model(\n",
       "    (embed_tokens): Embedding(256000, 2304, padding_idx=0)\n",
       "    (layers): ModuleList(\n",
       "      (0-25): 26 x Gemma2DecoderLayer(\n",
       "        (self_attn): Gemma2Attention(\n",
       "          (q_proj): Linear(in_features=2304, out_features=2048, bias=False)\n",
       "          (k_proj): Linear(in_features=2304, out_features=1024, bias=False)\n",
       "          (v_proj): Linear(in_features=2304, out_features=1024, bias=False)\n",
       "          (o_proj): Linear(in_features=2048, out_features=2304, bias=False)\n",
       "        )\n",
       "        (mlp): Gemma2MLP(\n",
       "          (gate_proj): Linear(in_features=2304, out_features=9216, bias=False)\n",
       "          (up_proj): Linear(in_features=2304, out_features=9216, bias=False)\n",
       "          (down_proj): Linear(in_features=9216, out_features=2304, bias=False)\n",
       "          (act_fn): GELUTanh()\n",
       "        )\n",
       "        (input_layernorm): Gemma2RMSNorm((2304,), eps=1e-06)\n",
       "        (post_attention_layernorm): Gemma2RMSNorm((2304,), eps=1e-06)\n",
       "        (pre_feedforward_layernorm): Gemma2RMSNorm((2304,), eps=1e-06)\n",
       "        (post_feedforward_layernorm): Gemma2RMSNorm((2304,), eps=1e-06)\n",
       "      )\n",
       "    )\n",
       "    (norm): Gemma2RMSNorm((2304,), eps=1e-06)\n",
       "    (rotary_emb): Gemma2RotaryEmbedding()\n",
       "  )\n",
       "  (lm_head): Linear(in_features=2304, out_features=256000, bias=False)\n",
       ")"
      ]
     },
     "execution_count": 3,
     "metadata": {},
     "output_type": "execute_result"
    }
   ],
   "source": [
    "# Move model to GPU\n",
    "device = torch.device(\"cuda\" if torch.cuda.is_available() else \"cpu\")\n",
    "model.to(device)"
   ]
  },
  {
   "cell_type": "code",
   "execution_count": 4,
   "metadata": {},
   "outputs": [
    {
     "name": "stdout",
     "output_type": "stream",
     "text": [
      "Michael Jordan is widely considered one of the greatest basketball players of all time. \n",
      "\n",
      "Here's a summary:\n",
      "\n",
      "* **Full Name:** Michael Jeffrey Jordan\n",
      "* **Born:** February 1\n"
     ]
    }
   ],
   "source": [
    "# Test inference\n",
    "messages = [\n",
    "    {\n",
    "        \"role\": \"user\",\n",
    "        \"content\": [\n",
    "            {\"type\": \"text\", \"text\": \"who is michael jordan?\"}\n",
    "        ]\n",
    "    },\n",
    "]\n",
    "inputs = tokenizer.apply_chat_template(\n",
    "\tmessages,\n",
    "\tadd_generation_prompt=True,\n",
    "\ttokenize=True,\n",
    "\treturn_dict=True,\n",
    "\treturn_tensors=\"pt\",\n",
    ").to(model.device)\n",
    "\n",
    "outputs = model.generate(**inputs, max_new_tokens=40)\n",
    "print(tokenizer.decode(outputs[0][inputs[\"input_ids\"].shape[-1]:]))"
   ]
  },
  {
   "cell_type": "code",
   "execution_count": 5,
   "metadata": {},
   "outputs": [],
   "source": [
    "# Create test dataset\n",
    "gemma_df = pd.DataFrame(columns=['uuid', 'topic', 'generated_article', 'elapsed_time'])"
   ]
  },
  {
   "cell_type": "code",
   "execution_count": 6,
   "metadata": {},
   "outputs": [],
   "source": [
    "topics = [\"US - Crime + Justice\", \"World - Africa\", \"World - Americas\", \"World - Asia\", \"World - Australia\",\n",
    "          \"World - China\", \"World - Europe\", \"World - India\", \"World - Middle East\", \"World - United Kingdom\",\n",
    "          \"Politics - CNN Polls\", \"Politics - Elections\", \"Business - Tech\", \"Business - Media\", \"Business - Markets\",\n",
    "          \"Business - Pre-markets\", \"Business - After-Hours\", \"Business - Investing\", \"Business - Markets Now\",\n",
    "          \"Health - Fitness\", \"Health - Food\", \"Health - Sleep\", \"Health - Mindfulness\", \"Health - Relationships\",\n",
    "          \"Entertainment - Movies\", \"Entertainment - Television\", \"Entertainment - Celebrity\", \"Tech - Innovate\",\n",
    "          \"Tech - Foreseeable Future\", \"Tech - Innovative Cities\", \"Style - Arts\", \"Style - Design\", \"Style - Fashion\",\n",
    "          \"Style - Architecture\", \"Style - Luxury\", \"Style - Beauty\", \"Travel - Destinations\", \"Travel - Food & Drink\",\n",
    "          \"Travel - Lodging and Hotels\", \"Travel - News\", \"Sports - Pro Football\", \"Sports - College Football\",\n",
    "          \"Sports - Basketball\", \"Sports - Baseball\", \"Sports - Soccer\", \"Sports - Olympics\", \"Sports - Hockey\",\n",
    "          \"Science - Space\", \"Science - Life\", \"Science - Medicine\", \"Science - Climate\", \"Science - Solutions\",\n",
    "          \"Science - Weather\"]\n",
    "\n",
    "# prompt = f\"\"\"Write a full news article in the style of CNN or DailyMail.\n",
    "# The story should sound realistic, factual, and human-written.\n",
    "# Use natural journalistic language with short and medium-length sentences.\n",
    "# Start with a strong lead paragraph summarizing who, what, where, and when.\n",
    "# Then expand with quotes, context, background, and a final paragraph about next steps or reactions.\n",
    "# Include realistic numbers, dates, and locations.\n",
    "# Topics can include {topic}\n",
    "# Add 1–3 short quotes attributed to plausible people (officials, witnesses, or experts).\n",
    "# Use neutral tone — no opinions, exaggeration, or bullet points.\n",
    "# Output only the article text (no headline, no lists, no explanation, no “to summarize”).\n",
    "# End cleanly after several paragraphs.\"\"\""
   ]
  },
  {
   "cell_type": "code",
   "execution_count": 8,
   "metadata": {},
   "outputs": [],
   "source": [
    "def generate_article(topics):\n",
    "  n = len(topics)\n",
    "  i = random.randint(0, n)\n",
    "  topic = topics[i]\n",
    "  messages = [{\"role\": \"user\", \"content\": [{\"type\": \"text\", \"text\": f\"\"\"Write a full news article in the style of CNN or DailyMail.\n",
    "                        The story should sound realistic, factual, and human-written.\n",
    "                        Use natural journalistic language with short and medium-length sentences.\n",
    "                        Start with a strong lead paragraph summarizing who, what, where, and when.\n",
    "                        Then expand with quotes, context, background, and a final paragraph about next steps or reactions.\n",
    "                        Include realistic numbers, dates, and locations.\n",
    "                        The topic should be about {topic}\n",
    "                        Add 1–3 short quotes attributed to plausible people (officials, witnesses, or experts).\n",
    "                        Use neutral tone — no opinions, exaggeration, or bullet points.\n",
    "                        Output only the article text (no headline, no lists, no explanation, no “to summarize”).\n",
    "                        End cleanly after several paragraphs.\"\"\"}]},]\n",
    "  inputs = tokenizer.apply_chat_template(\n",
    "    messages,\n",
    "    add_generation_prompt=True,\n",
    "    tokenize=True,\n",
    "    return_dict=True,\n",
    "    return_tensors=\"pt\",\n",
    "  ).to(model.device)\n",
    "\n",
    "  outputs = model.generate(**inputs, max_new_tokens=750, do_sample=True, temperature=0.9, top_p=0.95,top_k=50)\n",
    "  response = tokenizer.decode(outputs[0][inputs[\"input_ids\"].shape[-1]:])\n",
    "  return response, topic"
   ]
  },
  {
   "cell_type": "code",
   "execution_count": 13,
   "metadata": {},
   "outputs": [],
   "source": [
    "# Generate articles\n",
    "n = 5 # Number of datapoints to create\n",
    "for i in range(n):\n",
    "  # Add unique identifier for the row\n",
    "  gemma_df.loc[i, 'uuid'] = str(uuid.uuid4())\n",
    "  start_time = time.perf_counter()\n",
    "  response, topic = generate_article(topics)\n",
    "  end_time = time.perf_counter()\n",
    "  elapsed_time = end_time - start_time\n",
    "  gemma_df.loc[i, 'topic'] = topic\n",
    "  gemma_df.loc[i, 'generated_article'] = response\n",
    "  gemma_df.loc[i, 'elapsed_time'] = elapsed_time"
   ]
  },
  {
   "cell_type": "code",
   "execution_count": 14,
   "metadata": {},
   "outputs": [
    {
     "data": {
      "application/vnd.google.colaboratory.intrinsic+json": {
       "summary": "{\n  \"name\": \"gemma_df\",\n  \"rows\": 5,\n  \"fields\": [\n    {\n      \"column\": \"uuid\",\n      \"properties\": {\n        \"dtype\": \"string\",\n        \"num_unique_values\": 5,\n        \"samples\": [\n          \"64d76fc1-0dae-479f-879a-853beb4b5908\",\n          \"5907ba1e-997b-448b-bfa3-36495a3fe257\",\n          \"64752fec-54cc-4d3b-9aa5-f296eadde9cf\"\n        ],\n        \"semantic_type\": \"\",\n        \"description\": \"\"\n      }\n    },\n    {\n      \"column\": \"topic\",\n      \"properties\": {\n        \"dtype\": \"string\",\n        \"num_unique_values\": 5,\n        \"samples\": [\n          \"Travel - Lodging and Hotels\",\n          \"Politics - Elections\",\n          \"Entertainment - Movies\"\n        ],\n        \"semantic_type\": \"\",\n        \"description\": \"\"\n      }\n    },\n    {\n      \"column\": \"generated_article\",\n      \"properties\": {\n        \"dtype\": \"string\",\n        \"num_unique_values\": 5,\n        \"samples\": [\n          \"A catastrophic plumbing leak has forced the closure of the iconic Le Meridian Hotel in the heart of Paris, leaving hundreds of guests stranded and the city's tourism industry reeling.  The leak, discovered early Tuesday morning, flooded several floors of the historic building, triggering a mass evacuation and the disruption of essential services.  While authorities have confirmed that there have been no reported injuries, the incident has raised concerns about the vulnerability of major tourist landmarks to sudden infrastructure failures.  \\n\\n\\u201cIt\\u2019s a very serious situation,\\u201d said a representative from the French Ministry of Tourism. \\\"The hotel had been operating for over a century, and this incident has cast a shadow over the city\\u2019s reputation.\\\"  The exact cause of the leak is still under investigation, but officials have said it may have been due to a faulty water main or aging plumbing infrastructure.  \\n\\nThe Le Meridian Hotel is a staple of Paris\\u2019s tourism scene, known for its luxurious accommodations and its proximity to some of the city's most popular attractions. The leak has caused significant disruption, forcing the hotel to cancel all reservations and offering alternative accommodation only to guests with priority requests. The hotel's owner, a renowned French businessman, is facing significant criticism for the lack of safety measures and the inadequate evacuation procedures. \\n\\n\\u201cWe are deeply sorry for the inconvenience this has caused,\\u201d said a spokesperson for the hotel.  \\u201cWe are working with our engineers to restore the building and provide our guests with the best possible service while we work to resolve the issue.\\\" \\nExperts warn that such incidents highlight the vulnerability of traditional infrastructure to natural disasters and climate change, which can exacerbate the problem.  The incident has reignited discussions about modernizing older landmarks and adopting more sustainable practices. \\n<end_of_turn>\",\n          \"The Democratic Party is set to lose control of the House of Representatives in the upcoming mid-term elections, according to a recent nationwide survey. With just days left before Election Day, the race is neck-and-neck in several key swing states, including Florida, Texas, and Pennsylvania. The shift in the balance of power could significantly impact the political landscape, with Republicans potentially taking control of the House for the first time in over two decades.  This tight race has fueled intense campaigning, with both parties making last-minute appeals to voters. \\n\\nFormer Governor of Florida Ron DeSantis, a prominent figure within the Republican Party, has been a vocal champion of his party's cause, campaigning aggressively in numerous battleground states. \\u201cThis election is about the future of this nation,\\u201d said DeSantis. \\u201cAnd the future belongs to conservatives who are committed to traditional values.\\u201d His campaign has focused on economic anxieties and concerns over immigration, which resonate with many voters in key demographic groups.\\n\\nDemocrats are scrambling to shore up support and maintain their advantage in swing states.  Senator Joe Manchin, a Democrat from West Virginia, has publicly urged his party to shift away from President Biden\\u2019s proposed policies in an attempt to unify his party and appeal to moderate voters.  \\u201cWe need to focus on the common ground we share,\\\" Manchin said, \\\"and make clear that we are united in our desire for a strong and prosperous America.\\\"  However, some analysts point to the persistent lack of a unified Democratic message and the party\\u2019s struggles with recent economic policies as potential weaknesses in their campaign.\\n\\nWith Election Day just around the corner, the nation eagerly awaits the outcome of this pivotal election. Analysts predict a close race in the House, with the potential for a hung Congress and the possibility of gridlock over critical policy issues. \\n\\n\\n<end_of_turn>\",\n          \"The latest blockbuster, \\\"The Last Titan,\\\" featuring acclaimed Hollywood stars Leonardo DiCaprio and Viola Davis, opened to a mixed reception in New York City's opulent AMC Lincoln Square cinema last night, with some viewers expressing both awe and confusion at the film's unconventional narrative. The dystopian sci-fi film, directed by acclaimed British filmmaker Andrew Bell, explores a futuristic society plagued by a mysterious plague. The premiere on Tuesday, October 24th drew a significant crowd of celebrities and prominent figures from the film industry. However, the film's unusual plot twists and complex themes sparked debate among critics and viewers.\\n\\n\\\"It was definitely an experience,\\\" said film critic Johnathan Thompson, \\\"The movie is unlike anything I've seen before. It challenged my perspective, and while the pacing could be uneven, I found myself engaged throughout.\\\"  One critic described the film as \\\"a thought-provoking exploration of humanity's resilience and the dangers of unchecked ambition.\\\"  While the initial reviews have been polarizing, many have praised the performances by DiCaprio and Davis, who deliver compelling and layered portrayals of their respective characters. \\n\\n\\\"The Last Titan\\\" follows a global narrative of a society facing an environmental collapse and the rise of powerful individuals who exploit the crisis to gain influence.  The film's central themes of environmental sustainability and social justice have garnered attention, prompting discussions about the future of humanity and the responsibility of those in power.  However, some viewers expressed concern over the film's philosophical complexity, feeling it might be too convoluted for casual audiences. \\n\\nDirector Andrew Bell noted, \\\"The goal was to create a film that pushes the boundaries of cinematic storytelling. While I understand some viewers might find it challenging, I believe it offers a powerful commentary on the world we live in.\\\" As \\\"The Last Titan\\\" hits wider release, its divisive reception will likely fuel further debate about its message and its cultural impact. \\n<end_of_turn>\"\n        ],\n        \"semantic_type\": \"\",\n        \"description\": \"\"\n      }\n    },\n    {\n      \"column\": \"elapsed_time\",\n      \"properties\": {\n        \"dtype\": \"date\",\n        \"min\": 19.370725426999797,\n        \"max\": 26.246358638999936,\n        \"num_unique_values\": 5,\n        \"samples\": [\n          19.370725426999797,\n          20.326160368000046,\n          21.548858663000146\n        ],\n        \"semantic_type\": \"\",\n        \"description\": \"\"\n      }\n    }\n  ]\n}",
       "type": "dataframe",
       "variable_name": "gemma_df"
      },
      "text/html": [
       "\n",
       "  <div id=\"df-6e39fbf3-07bf-4ef8-b2ab-35b855f6e523\" class=\"colab-df-container\">\n",
       "    <div>\n",
       "<style scoped>\n",
       "    .dataframe tbody tr th:only-of-type {\n",
       "        vertical-align: middle;\n",
       "    }\n",
       "\n",
       "    .dataframe tbody tr th {\n",
       "        vertical-align: top;\n",
       "    }\n",
       "\n",
       "    .dataframe thead th {\n",
       "        text-align: right;\n",
       "    }\n",
       "</style>\n",
       "<table border=\"1\" class=\"dataframe\">\n",
       "  <thead>\n",
       "    <tr style=\"text-align: right;\">\n",
       "      <th></th>\n",
       "      <th>uuid</th>\n",
       "      <th>topic</th>\n",
       "      <th>generated_article</th>\n",
       "      <th>elapsed_time</th>\n",
       "    </tr>\n",
       "  </thead>\n",
       "  <tbody>\n",
       "    <tr>\n",
       "      <th>0</th>\n",
       "      <td>e9cb1d55-dbf0-4854-a9ae-de49bc2c519e</td>\n",
       "      <td>Style - Architecture</td>\n",
       "      <td>A landmark building in the heart of Prague, th...</td>\n",
       "      <td>24.727109</td>\n",
       "    </tr>\n",
       "    <tr>\n",
       "      <th>1</th>\n",
       "      <td>64d76fc1-0dae-479f-879a-853beb4b5908</td>\n",
       "      <td>Travel - Lodging and Hotels</td>\n",
       "      <td>A catastrophic plumbing leak has forced the cl...</td>\n",
       "      <td>19.370725</td>\n",
       "    </tr>\n",
       "    <tr>\n",
       "      <th>2</th>\n",
       "      <td>64752fec-54cc-4d3b-9aa5-f296eadde9cf</td>\n",
       "      <td>Entertainment - Movies</td>\n",
       "      <td>The latest blockbuster, \"The Last Titan,\" feat...</td>\n",
       "      <td>21.548859</td>\n",
       "    </tr>\n",
       "    <tr>\n",
       "      <th>3</th>\n",
       "      <td>003852aa-e8fb-434c-b0ff-b354cc6f80be</td>\n",
       "      <td>Style - Beauty</td>\n",
       "      <td>A new wave of skin-bleaching products sweeping...</td>\n",
       "      <td>26.246359</td>\n",
       "    </tr>\n",
       "    <tr>\n",
       "      <th>4</th>\n",
       "      <td>5907ba1e-997b-448b-bfa3-36495a3fe257</td>\n",
       "      <td>Politics - Elections</td>\n",
       "      <td>The Democratic Party is set to lose control of...</td>\n",
       "      <td>20.32616</td>\n",
       "    </tr>\n",
       "  </tbody>\n",
       "</table>\n",
       "</div>\n",
       "    <div class=\"colab-df-buttons\">\n",
       "\n",
       "  <div class=\"colab-df-container\">\n",
       "    <button class=\"colab-df-convert\" onclick=\"convertToInteractive('df-6e39fbf3-07bf-4ef8-b2ab-35b855f6e523')\"\n",
       "            title=\"Convert this dataframe to an interactive table.\"\n",
       "            style=\"display:none;\">\n",
       "\n",
       "  <svg xmlns=\"http://www.w3.org/2000/svg\" height=\"24px\" viewBox=\"0 -960 960 960\">\n",
       "    <path d=\"M120-120v-720h720v720H120Zm60-500h600v-160H180v160Zm220 220h160v-160H400v160Zm0 220h160v-160H400v160ZM180-400h160v-160H180v160Zm440 0h160v-160H620v160ZM180-180h160v-160H180v160Zm440 0h160v-160H620v160Z\"/>\n",
       "  </svg>\n",
       "    </button>\n",
       "\n",
       "  <style>\n",
       "    .colab-df-container {\n",
       "      display:flex;\n",
       "      gap: 12px;\n",
       "    }\n",
       "\n",
       "    .colab-df-convert {\n",
       "      background-color: #E8F0FE;\n",
       "      border: none;\n",
       "      border-radius: 50%;\n",
       "      cursor: pointer;\n",
       "      display: none;\n",
       "      fill: #1967D2;\n",
       "      height: 32px;\n",
       "      padding: 0 0 0 0;\n",
       "      width: 32px;\n",
       "    }\n",
       "\n",
       "    .colab-df-convert:hover {\n",
       "      background-color: #E2EBFA;\n",
       "      box-shadow: 0px 1px 2px rgba(60, 64, 67, 0.3), 0px 1px 3px 1px rgba(60, 64, 67, 0.15);\n",
       "      fill: #174EA6;\n",
       "    }\n",
       "\n",
       "    .colab-df-buttons div {\n",
       "      margin-bottom: 4px;\n",
       "    }\n",
       "\n",
       "    [theme=dark] .colab-df-convert {\n",
       "      background-color: #3B4455;\n",
       "      fill: #D2E3FC;\n",
       "    }\n",
       "\n",
       "    [theme=dark] .colab-df-convert:hover {\n",
       "      background-color: #434B5C;\n",
       "      box-shadow: 0px 1px 3px 1px rgba(0, 0, 0, 0.15);\n",
       "      filter: drop-shadow(0px 1px 2px rgba(0, 0, 0, 0.3));\n",
       "      fill: #FFFFFF;\n",
       "    }\n",
       "  </style>\n",
       "\n",
       "    <script>\n",
       "      const buttonEl =\n",
       "        document.querySelector('#df-6e39fbf3-07bf-4ef8-b2ab-35b855f6e523 button.colab-df-convert');\n",
       "      buttonEl.style.display =\n",
       "        google.colab.kernel.accessAllowed ? 'block' : 'none';\n",
       "\n",
       "      async function convertToInteractive(key) {\n",
       "        const element = document.querySelector('#df-6e39fbf3-07bf-4ef8-b2ab-35b855f6e523');\n",
       "        const dataTable =\n",
       "          await google.colab.kernel.invokeFunction('convertToInteractive',\n",
       "                                                    [key], {});\n",
       "        if (!dataTable) return;\n",
       "\n",
       "        const docLinkHtml = 'Like what you see? Visit the ' +\n",
       "          '<a target=\"_blank\" href=https://colab.research.google.com/notebooks/data_table.ipynb>data table notebook</a>'\n",
       "          + ' to learn more about interactive tables.';\n",
       "        element.innerHTML = '';\n",
       "        dataTable['output_type'] = 'display_data';\n",
       "        await google.colab.output.renderOutput(dataTable, element);\n",
       "        const docLink = document.createElement('div');\n",
       "        docLink.innerHTML = docLinkHtml;\n",
       "        element.appendChild(docLink);\n",
       "      }\n",
       "    </script>\n",
       "  </div>\n",
       "\n",
       "\n",
       "    <div id=\"df-2d13893c-b67b-4be7-a57c-8c964f535654\">\n",
       "      <button class=\"colab-df-quickchart\" onclick=\"quickchart('df-2d13893c-b67b-4be7-a57c-8c964f535654')\"\n",
       "                title=\"Suggest charts\"\n",
       "                style=\"display:none;\">\n",
       "\n",
       "<svg xmlns=\"http://www.w3.org/2000/svg\" height=\"24px\"viewBox=\"0 0 24 24\"\n",
       "     width=\"24px\">\n",
       "    <g>\n",
       "        <path d=\"M19 3H5c-1.1 0-2 .9-2 2v14c0 1.1.9 2 2 2h14c1.1 0 2-.9 2-2V5c0-1.1-.9-2-2-2zM9 17H7v-7h2v7zm4 0h-2V7h2v10zm4 0h-2v-4h2v4z\"/>\n",
       "    </g>\n",
       "</svg>\n",
       "      </button>\n",
       "\n",
       "<style>\n",
       "  .colab-df-quickchart {\n",
       "      --bg-color: #E8F0FE;\n",
       "      --fill-color: #1967D2;\n",
       "      --hover-bg-color: #E2EBFA;\n",
       "      --hover-fill-color: #174EA6;\n",
       "      --disabled-fill-color: #AAA;\n",
       "      --disabled-bg-color: #DDD;\n",
       "  }\n",
       "\n",
       "  [theme=dark] .colab-df-quickchart {\n",
       "      --bg-color: #3B4455;\n",
       "      --fill-color: #D2E3FC;\n",
       "      --hover-bg-color: #434B5C;\n",
       "      --hover-fill-color: #FFFFFF;\n",
       "      --disabled-bg-color: #3B4455;\n",
       "      --disabled-fill-color: #666;\n",
       "  }\n",
       "\n",
       "  .colab-df-quickchart {\n",
       "    background-color: var(--bg-color);\n",
       "    border: none;\n",
       "    border-radius: 50%;\n",
       "    cursor: pointer;\n",
       "    display: none;\n",
       "    fill: var(--fill-color);\n",
       "    height: 32px;\n",
       "    padding: 0;\n",
       "    width: 32px;\n",
       "  }\n",
       "\n",
       "  .colab-df-quickchart:hover {\n",
       "    background-color: var(--hover-bg-color);\n",
       "    box-shadow: 0 1px 2px rgba(60, 64, 67, 0.3), 0 1px 3px 1px rgba(60, 64, 67, 0.15);\n",
       "    fill: var(--button-hover-fill-color);\n",
       "  }\n",
       "\n",
       "  .colab-df-quickchart-complete:disabled,\n",
       "  .colab-df-quickchart-complete:disabled:hover {\n",
       "    background-color: var(--disabled-bg-color);\n",
       "    fill: var(--disabled-fill-color);\n",
       "    box-shadow: none;\n",
       "  }\n",
       "\n",
       "  .colab-df-spinner {\n",
       "    border: 2px solid var(--fill-color);\n",
       "    border-color: transparent;\n",
       "    border-bottom-color: var(--fill-color);\n",
       "    animation:\n",
       "      spin 1s steps(1) infinite;\n",
       "  }\n",
       "\n",
       "  @keyframes spin {\n",
       "    0% {\n",
       "      border-color: transparent;\n",
       "      border-bottom-color: var(--fill-color);\n",
       "      border-left-color: var(--fill-color);\n",
       "    }\n",
       "    20% {\n",
       "      border-color: transparent;\n",
       "      border-left-color: var(--fill-color);\n",
       "      border-top-color: var(--fill-color);\n",
       "    }\n",
       "    30% {\n",
       "      border-color: transparent;\n",
       "      border-left-color: var(--fill-color);\n",
       "      border-top-color: var(--fill-color);\n",
       "      border-right-color: var(--fill-color);\n",
       "    }\n",
       "    40% {\n",
       "      border-color: transparent;\n",
       "      border-right-color: var(--fill-color);\n",
       "      border-top-color: var(--fill-color);\n",
       "    }\n",
       "    60% {\n",
       "      border-color: transparent;\n",
       "      border-right-color: var(--fill-color);\n",
       "    }\n",
       "    80% {\n",
       "      border-color: transparent;\n",
       "      border-right-color: var(--fill-color);\n",
       "      border-bottom-color: var(--fill-color);\n",
       "    }\n",
       "    90% {\n",
       "      border-color: transparent;\n",
       "      border-bottom-color: var(--fill-color);\n",
       "    }\n",
       "  }\n",
       "</style>\n",
       "\n",
       "      <script>\n",
       "        async function quickchart(key) {\n",
       "          const quickchartButtonEl =\n",
       "            document.querySelector('#' + key + ' button');\n",
       "          quickchartButtonEl.disabled = true;  // To prevent multiple clicks.\n",
       "          quickchartButtonEl.classList.add('colab-df-spinner');\n",
       "          try {\n",
       "            const charts = await google.colab.kernel.invokeFunction(\n",
       "                'suggestCharts', [key], {});\n",
       "          } catch (error) {\n",
       "            console.error('Error during call to suggestCharts:', error);\n",
       "          }\n",
       "          quickchartButtonEl.classList.remove('colab-df-spinner');\n",
       "          quickchartButtonEl.classList.add('colab-df-quickchart-complete');\n",
       "        }\n",
       "        (() => {\n",
       "          let quickchartButtonEl =\n",
       "            document.querySelector('#df-2d13893c-b67b-4be7-a57c-8c964f535654 button');\n",
       "          quickchartButtonEl.style.display =\n",
       "            google.colab.kernel.accessAllowed ? 'block' : 'none';\n",
       "        })();\n",
       "      </script>\n",
       "    </div>\n",
       "\n",
       "    </div>\n",
       "  </div>\n"
      ],
      "text/plain": [
       "                                   uuid                        topic  \\\n",
       "0  e9cb1d55-dbf0-4854-a9ae-de49bc2c519e         Style - Architecture   \n",
       "1  64d76fc1-0dae-479f-879a-853beb4b5908  Travel - Lodging and Hotels   \n",
       "2  64752fec-54cc-4d3b-9aa5-f296eadde9cf       Entertainment - Movies   \n",
       "3  003852aa-e8fb-434c-b0ff-b354cc6f80be               Style - Beauty   \n",
       "4  5907ba1e-997b-448b-bfa3-36495a3fe257         Politics - Elections   \n",
       "\n",
       "                                   generated_article elapsed_time  \n",
       "0  A landmark building in the heart of Prague, th...    24.727109  \n",
       "1  A catastrophic plumbing leak has forced the cl...    19.370725  \n",
       "2  The latest blockbuster, \"The Last Titan,\" feat...    21.548859  \n",
       "3  A new wave of skin-bleaching products sweeping...    26.246359  \n",
       "4  The Democratic Party is set to lose control of...     20.32616  "
      ]
     },
     "execution_count": 14,
     "metadata": {},
     "output_type": "execute_result"
    }
   ],
   "source": [
    "gemma_df.head()"
   ]
  },
  {
   "cell_type": "code",
   "execution_count": 15,
   "metadata": {},
   "outputs": [
    {
     "name": "stdout",
     "output_type": "stream",
     "text": [
      "0 A landmark building in the heart of Prague, the iconic \"House of the Dancing House\" is facing a contentious proposal that could permanently alter the skyline. Prague’s Municipal Council approved a controversial new design for the building’s facade, a move that has sparked anger among preservationists and architectural enthusiasts. The decision, passed on Tuesday, marks a potential shift away from the building's celebrated modernist design by the renowned architect Frank Gehry. The changes include a new facade designed to resemble a traditional Czech wooden house.\n",
      "\n",
      "\"This proposal is a betrayal of the original vision of the architect,\" said Josef Koller, a leading Czech architect and member of the Prague Preservation Society. \"The Dancing House is an internationally recognized symbol of Prague's architectural heritage, and this transformation could irreparably damage its unique identity.\" Concerns about the alterations have been raised by citizens and conservation groups who argue that the building's modern aesthetic, characterized by its dynamic, asymmetrical design, is integral to its cultural value. \n",
      "\n",
      "\"This proposal disrespects the efforts of Frank Gehry to design a building that reflects Prague's spirit,\" said a spokesperson for the Prague Preservation Society. \"It's a decision that undermines the city's cultural heritage and threatens the reputation of the city as a destination for modern architecture.\"  The controversy surrounding the proposed changes has garnered attention in the media, with experts debating the merits and demerits of preserving the building’s original design versus incorporating elements of traditional Czech architecture. \n",
      "\n",
      "The City Council, however, maintained that the proposed modifications were necessary to enhance the building's functionality and address concerns about its structural integrity. Mayor Zdeněk Hřib, who played a key role in the council's decision, argued that the alterations will ensure the building's long-term viability and preserve its place as a landmark for future generations.  \"This is a delicate balance between preserving the building's historical significance and modernizing it to ensure its continued use and functionality,\" he said.  The City Council's decision has been met with mixed reactions, sparking debates about the importance of balancing preservation efforts with urban development and the role of modern architecture in shaping cities. \n",
      "<end_of_turn>\n",
      "1 A catastrophic plumbing leak has forced the closure of the iconic Le Meridian Hotel in the heart of Paris, leaving hundreds of guests stranded and the city's tourism industry reeling.  The leak, discovered early Tuesday morning, flooded several floors of the historic building, triggering a mass evacuation and the disruption of essential services.  While authorities have confirmed that there have been no reported injuries, the incident has raised concerns about the vulnerability of major tourist landmarks to sudden infrastructure failures.  \n",
      "\n",
      "“It’s a very serious situation,” said a representative from the French Ministry of Tourism. \"The hotel had been operating for over a century, and this incident has cast a shadow over the city’s reputation.\"  The exact cause of the leak is still under investigation, but officials have said it may have been due to a faulty water main or aging plumbing infrastructure.  \n",
      "\n",
      "The Le Meridian Hotel is a staple of Paris’s tourism scene, known for its luxurious accommodations and its proximity to some of the city's most popular attractions. The leak has caused significant disruption, forcing the hotel to cancel all reservations and offering alternative accommodation only to guests with priority requests. The hotel's owner, a renowned French businessman, is facing significant criticism for the lack of safety measures and the inadequate evacuation procedures. \n",
      "\n",
      "“We are deeply sorry for the inconvenience this has caused,” said a spokesperson for the hotel.  “We are working with our engineers to restore the building and provide our guests with the best possible service while we work to resolve the issue.\" \n",
      "Experts warn that such incidents highlight the vulnerability of traditional infrastructure to natural disasters and climate change, which can exacerbate the problem.  The incident has reignited discussions about modernizing older landmarks and adopting more sustainable practices. \n",
      "<end_of_turn>\n",
      "2 The latest blockbuster, \"The Last Titan,\" featuring acclaimed Hollywood stars Leonardo DiCaprio and Viola Davis, opened to a mixed reception in New York City's opulent AMC Lincoln Square cinema last night, with some viewers expressing both awe and confusion at the film's unconventional narrative. The dystopian sci-fi film, directed by acclaimed British filmmaker Andrew Bell, explores a futuristic society plagued by a mysterious plague. The premiere on Tuesday, October 24th drew a significant crowd of celebrities and prominent figures from the film industry. However, the film's unusual plot twists and complex themes sparked debate among critics and viewers.\n",
      "\n",
      "\"It was definitely an experience,\" said film critic Johnathan Thompson, \"The movie is unlike anything I've seen before. It challenged my perspective, and while the pacing could be uneven, I found myself engaged throughout.\"  One critic described the film as \"a thought-provoking exploration of humanity's resilience and the dangers of unchecked ambition.\"  While the initial reviews have been polarizing, many have praised the performances by DiCaprio and Davis, who deliver compelling and layered portrayals of their respective characters. \n",
      "\n",
      "\"The Last Titan\" follows a global narrative of a society facing an environmental collapse and the rise of powerful individuals who exploit the crisis to gain influence.  The film's central themes of environmental sustainability and social justice have garnered attention, prompting discussions about the future of humanity and the responsibility of those in power.  However, some viewers expressed concern over the film's philosophical complexity, feeling it might be too convoluted for casual audiences. \n",
      "\n",
      "Director Andrew Bell noted, \"The goal was to create a film that pushes the boundaries of cinematic storytelling. While I understand some viewers might find it challenging, I believe it offers a powerful commentary on the world we live in.\" As \"The Last Titan\" hits wider release, its divisive reception will likely fuel further debate about its message and its cultural impact. \n",
      "<end_of_turn>\n",
      "3 A new wave of skin-bleaching products sweeping through South Korea is raising serious concerns about the growing trend of excessive cosmetic surgery, experts warn.  Skin-lightening creams containing hydroquinone, a potent chemical linked to severe skin damage and an increased risk of skin cancer, are becoming increasingly popular, particularly among young adults. This trend emerged in earnest in 2023, with multiple brands launching new formulas designed to \"achieve a more European look.\"  The popularity of these products is fueling a troubling trend of increasingly invasive procedures among Korean women seeking a lighter complexion. Seoul, South Korea -  A local beauty consultant, Ji-Soo Park, said she sees an increase in clients who want to whiten their skin. “It’s a race to be more ‘Euro-Korean.’ The pressure to conform to certain beauty standards is relentless,\" Park told CNN.  “We see these creams, and it's a slippery slope. People are willing to do anything to achieve the ‘ideal.’”\n",
      "\n",
      "The World Health Organization (WHO) has officially classified hydroquinone as a potential skin cancer carcinogen. The European Union (EU) has also banned the ingredient from cosmetic products sold there.   Despite these warnings, Korean beauty retailers have witnessed an explosion of sales for hydroquinone-based products in recent months. The Korean government has acknowledged the issue and is currently working on implementing stricter regulations on the sale and marketing of these products.  A dermatologist, Dr. Hyun-A Kim, with Seoul's Gangnam Hospital, commented, \"These creams are incredibly dangerous, not only for the skin but for the mind. There’s a sense of inadequacy and pressure to change.\"  Dr. Kim added that the trend has led to a surge in cosmetic procedures, including skin grafting and extensive laser treatments.   \n",
      "\n",
      "The World Health Organization estimates that almost 70% of women in Korea use skin-lightening products, with many of these products containing a significant amount of hydroquinone. The cosmetic industry in Korea is currently facing fierce criticism for its aggressive marketing of these products, which often target young women.  Many experts argue that the pressure to conform to unrealistic beauty standards is causing mental health problems for young Korean women.  The Korean government has promised to address the issue by increasing consumer awareness, and implementing stricter regulations on the sale and marketing of these products. \n",
      "<end_of_turn>\n",
      "4 The Democratic Party is set to lose control of the House of Representatives in the upcoming mid-term elections, according to a recent nationwide survey. With just days left before Election Day, the race is neck-and-neck in several key swing states, including Florida, Texas, and Pennsylvania. The shift in the balance of power could significantly impact the political landscape, with Republicans potentially taking control of the House for the first time in over two decades.  This tight race has fueled intense campaigning, with both parties making last-minute appeals to voters. \n",
      "\n",
      "Former Governor of Florida Ron DeSantis, a prominent figure within the Republican Party, has been a vocal champion of his party's cause, campaigning aggressively in numerous battleground states. “This election is about the future of this nation,” said DeSantis. “And the future belongs to conservatives who are committed to traditional values.” His campaign has focused on economic anxieties and concerns over immigration, which resonate with many voters in key demographic groups.\n",
      "\n",
      "Democrats are scrambling to shore up support and maintain their advantage in swing states.  Senator Joe Manchin, a Democrat from West Virginia, has publicly urged his party to shift away from President Biden’s proposed policies in an attempt to unify his party and appeal to moderate voters.  “We need to focus on the common ground we share,\" Manchin said, \"and make clear that we are united in our desire for a strong and prosperous America.\"  However, some analysts point to the persistent lack of a unified Democratic message and the party’s struggles with recent economic policies as potential weaknesses in their campaign.\n",
      "\n",
      "With Election Day just around the corner, the nation eagerly awaits the outcome of this pivotal election. Analysts predict a close race in the House, with the potential for a hung Congress and the possibility of gridlock over critical policy issues. \n",
      "\n",
      "\n",
      "<end_of_turn>\n"
     ]
    }
   ],
   "source": [
    "for i in range(n):\n",
    "  print(i, gemma_df['generated_article'][i])"
   ]
  },
  {
   "cell_type": "code",
   "execution_count": 16,
   "metadata": {},
   "outputs": [],
   "source": [
    "gemma_df.to_csv(\"gemma_outputs.csv\")"
   ]
  },
  {
   "cell_type": "code",
   "execution_count": 23,
   "metadata": {},
   "outputs": [
    {
     "data": {
      "text/html": [
       "\n",
       "     <input type=\"file\" id=\"files-1e95a6da-a5bb-45a9-ad97-1b75fd1a3005\" name=\"files[]\" multiple disabled\n",
       "        style=\"border:none\" />\n",
       "     <output id=\"result-1e95a6da-a5bb-45a9-ad97-1b75fd1a3005\">\n",
       "      Upload widget is only available when the cell has been executed in the\n",
       "      current browser session. Please rerun this cell to enable.\n",
       "      </output>\n",
       "      <script>// Copyright 2017 Google LLC\n",
       "//\n",
       "// Licensed under the Apache License, Version 2.0 (the \"License\");\n",
       "// you may not use this file except in compliance with the License.\n",
       "// You may obtain a copy of the License at\n",
       "//\n",
       "//      http://www.apache.org/licenses/LICENSE-2.0\n",
       "//\n",
       "// Unless required by applicable law or agreed to in writing, software\n",
       "// distributed under the License is distributed on an \"AS IS\" BASIS,\n",
       "// WITHOUT WARRANTIES OR CONDITIONS OF ANY KIND, either express or implied.\n",
       "// See the License for the specific language governing permissions and\n",
       "// limitations under the License.\n",
       "\n",
       "/**\n",
       " * @fileoverview Helpers for google.colab Python module.\n",
       " */\n",
       "(function(scope) {\n",
       "function span(text, styleAttributes = {}) {\n",
       "  const element = document.createElement('span');\n",
       "  element.textContent = text;\n",
       "  for (const key of Object.keys(styleAttributes)) {\n",
       "    element.style[key] = styleAttributes[key];\n",
       "  }\n",
       "  return element;\n",
       "}\n",
       "\n",
       "// Max number of bytes which will be uploaded at a time.\n",
       "const MAX_PAYLOAD_SIZE = 100 * 1024;\n",
       "\n",
       "function _uploadFiles(inputId, outputId) {\n",
       "  const steps = uploadFilesStep(inputId, outputId);\n",
       "  const outputElement = document.getElementById(outputId);\n",
       "  // Cache steps on the outputElement to make it available for the next call\n",
       "  // to uploadFilesContinue from Python.\n",
       "  outputElement.steps = steps;\n",
       "\n",
       "  return _uploadFilesContinue(outputId);\n",
       "}\n",
       "\n",
       "// This is roughly an async generator (not supported in the browser yet),\n",
       "// where there are multiple asynchronous steps and the Python side is going\n",
       "// to poll for completion of each step.\n",
       "// This uses a Promise to block the python side on completion of each step,\n",
       "// then passes the result of the previous step as the input to the next step.\n",
       "function _uploadFilesContinue(outputId) {\n",
       "  const outputElement = document.getElementById(outputId);\n",
       "  const steps = outputElement.steps;\n",
       "\n",
       "  const next = steps.next(outputElement.lastPromiseValue);\n",
       "  return Promise.resolve(next.value.promise).then((value) => {\n",
       "    // Cache the last promise value to make it available to the next\n",
       "    // step of the generator.\n",
       "    outputElement.lastPromiseValue = value;\n",
       "    return next.value.response;\n",
       "  });\n",
       "}\n",
       "\n",
       "/**\n",
       " * Generator function which is called between each async step of the upload\n",
       " * process.\n",
       " * @param {string} inputId Element ID of the input file picker element.\n",
       " * @param {string} outputId Element ID of the output display.\n",
       " * @return {!Iterable<!Object>} Iterable of next steps.\n",
       " */\n",
       "function* uploadFilesStep(inputId, outputId) {\n",
       "  const inputElement = document.getElementById(inputId);\n",
       "  inputElement.disabled = false;\n",
       "\n",
       "  const outputElement = document.getElementById(outputId);\n",
       "  outputElement.innerHTML = '';\n",
       "\n",
       "  const pickedPromise = new Promise((resolve) => {\n",
       "    inputElement.addEventListener('change', (e) => {\n",
       "      resolve(e.target.files);\n",
       "    });\n",
       "  });\n",
       "\n",
       "  const cancel = document.createElement('button');\n",
       "  inputElement.parentElement.appendChild(cancel);\n",
       "  cancel.textContent = 'Cancel upload';\n",
       "  const cancelPromise = new Promise((resolve) => {\n",
       "    cancel.onclick = () => {\n",
       "      resolve(null);\n",
       "    };\n",
       "  });\n",
       "\n",
       "  // Wait for the user to pick the files.\n",
       "  const files = yield {\n",
       "    promise: Promise.race([pickedPromise, cancelPromise]),\n",
       "    response: {\n",
       "      action: 'starting',\n",
       "    }\n",
       "  };\n",
       "\n",
       "  cancel.remove();\n",
       "\n",
       "  // Disable the input element since further picks are not allowed.\n",
       "  inputElement.disabled = true;\n",
       "\n",
       "  if (!files) {\n",
       "    return {\n",
       "      response: {\n",
       "        action: 'complete',\n",
       "      }\n",
       "    };\n",
       "  }\n",
       "\n",
       "  for (const file of files) {\n",
       "    const li = document.createElement('li');\n",
       "    li.append(span(file.name, {fontWeight: 'bold'}));\n",
       "    li.append(span(\n",
       "        `(${file.type || 'n/a'}) - ${file.size} bytes, ` +\n",
       "        `last modified: ${\n",
       "            file.lastModifiedDate ? file.lastModifiedDate.toLocaleDateString() :\n",
       "                                    'n/a'} - `));\n",
       "    const percent = span('0% done');\n",
       "    li.appendChild(percent);\n",
       "\n",
       "    outputElement.appendChild(li);\n",
       "\n",
       "    const fileDataPromise = new Promise((resolve) => {\n",
       "      const reader = new FileReader();\n",
       "      reader.onload = (e) => {\n",
       "        resolve(e.target.result);\n",
       "      };\n",
       "      reader.readAsArrayBuffer(file);\n",
       "    });\n",
       "    // Wait for the data to be ready.\n",
       "    let fileData = yield {\n",
       "      promise: fileDataPromise,\n",
       "      response: {\n",
       "        action: 'continue',\n",
       "      }\n",
       "    };\n",
       "\n",
       "    // Use a chunked sending to avoid message size limits. See b/62115660.\n",
       "    let position = 0;\n",
       "    do {\n",
       "      const length = Math.min(fileData.byteLength - position, MAX_PAYLOAD_SIZE);\n",
       "      const chunk = new Uint8Array(fileData, position, length);\n",
       "      position += length;\n",
       "\n",
       "      const base64 = btoa(String.fromCharCode.apply(null, chunk));\n",
       "      yield {\n",
       "        response: {\n",
       "          action: 'append',\n",
       "          file: file.name,\n",
       "          data: base64,\n",
       "        },\n",
       "      };\n",
       "\n",
       "      let percentDone = fileData.byteLength === 0 ?\n",
       "          100 :\n",
       "          Math.round((position / fileData.byteLength) * 100);\n",
       "      percent.textContent = `${percentDone}% done`;\n",
       "\n",
       "    } while (position < fileData.byteLength);\n",
       "  }\n",
       "\n",
       "  // All done.\n",
       "  yield {\n",
       "    response: {\n",
       "      action: 'complete',\n",
       "    }\n",
       "  };\n",
       "}\n",
       "\n",
       "scope.google = scope.google || {};\n",
       "scope.google.colab = scope.google.colab || {};\n",
       "scope.google.colab._files = {\n",
       "  _uploadFiles,\n",
       "  _uploadFilesContinue,\n",
       "};\n",
       "})(self);\n",
       "</script> "
      ],
      "text/plain": [
       "<IPython.core.display.HTML object>"
      ]
     },
     "metadata": {},
     "output_type": "display_data"
    }
   ],
   "source": [
    "from google.colab import files\n",
    "uploaded = files.upload()"
   ]
  },
  {
   "cell_type": "code",
   "execution_count": 19,
   "metadata": {},
   "outputs": [
    {
     "name": "stdout",
     "output_type": "stream",
     "text": [
      "/bin/bash: -c: line 1: syntax error near unexpected token `('\n",
      "/bin/bash: -c: line 1: `jupyter nbconvert --ClearMetadataPreprocessor.enabled=True --inplace gemma_text_generation (3).ipynb'\n"
     ]
    }
   ],
   "source": [
    "!jupyter nbconvert --ClearMetadataPreprocessor.enabled=True --inplace gemma_text_generation.ipynb\n"
   ]
  },
  {
   "cell_type": "code",
   "execution_count": 21,
   "metadata": {},
   "outputs": [
    {
     "data": {
      "application/javascript": [
       "\n",
       "    async function download(id, filename, size) {\n",
       "      if (!google.colab.kernel.accessAllowed) {\n",
       "        return;\n",
       "      }\n",
       "      const div = document.createElement('div');\n",
       "      const label = document.createElement('label');\n",
       "      label.textContent = `Downloading \"${filename}\": `;\n",
       "      div.appendChild(label);\n",
       "      const progress = document.createElement('progress');\n",
       "      progress.max = size;\n",
       "      div.appendChild(progress);\n",
       "      document.body.appendChild(div);\n",
       "\n",
       "      const buffers = [];\n",
       "      let downloaded = 0;\n",
       "\n",
       "      const channel = await google.colab.kernel.comms.open(id);\n",
       "      // Send a message to notify the kernel that we're ready.\n",
       "      channel.send({})\n",
       "\n",
       "      for await (const message of channel.messages) {\n",
       "        // Send a message to notify the kernel that we're ready.\n",
       "        channel.send({})\n",
       "        if (message.buffers) {\n",
       "          for (const buffer of message.buffers) {\n",
       "            buffers.push(buffer);\n",
       "            downloaded += buffer.byteLength;\n",
       "            progress.value = downloaded;\n",
       "          }\n",
       "        }\n",
       "      }\n",
       "      const blob = new Blob(buffers, {type: 'application/binary'});\n",
       "      const a = document.createElement('a');\n",
       "      a.href = window.URL.createObjectURL(blob);\n",
       "      a.download = filename;\n",
       "      div.appendChild(a);\n",
       "      a.click();\n",
       "      div.remove();\n",
       "    }\n",
       "  "
      ],
      "text/plain": [
       "<IPython.core.display.Javascript object>"
      ]
     },
     "metadata": {},
     "output_type": "display_data"
    },
    {
     "data": {
      "application/javascript": [
       "download(\"download_d56cfba2-b6d6-48bb-8a7b-c7c6c49f2b76\", \"gemma_text_generation (3).ipynb\", 208722)"
      ],
      "text/plain": [
       "<IPython.core.display.Javascript object>"
      ]
     },
     "metadata": {},
     "output_type": "display_data"
    }
   ],
   "source": [
    "files.download(\"gemma_text_generation.ipynb\")"
   ]
  }
 ],
 "metadata": {
  "language_info": {
   "name": "python"
  }
 },
 "nbformat": 4,
 "nbformat_minor": 0
}
